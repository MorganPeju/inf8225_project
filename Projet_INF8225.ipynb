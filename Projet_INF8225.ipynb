{
  "nbformat": 4,
  "nbformat_minor": 0,
  "metadata": {
    "colab": {
      "name": "Projet_INF8225.ipynb",
      "provenance": [],
      "authorship_tag": "ABX9TyOLZWCi1BanrYsc+uWWk3Mu",
      "include_colab_link": true
    },
    "kernelspec": {
      "name": "python3",
      "display_name": "Python 3"
    },
    "language_info": {
      "name": "python"
    }
  },
  "cells": [
    {
      "cell_type": "markdown",
      "metadata": {
        "id": "view-in-github",
        "colab_type": "text"
      },
      "source": [
        "<a href=\"https://colab.research.google.com/github/MorganPeju/inf8225_project/blob/morgan/Projet_INF8225.ipynb\" target=\"_parent\"><img src=\"https://colab.research.google.com/assets/colab-badge.svg\" alt=\"Open In Colab\"/></a>"
      ]
    },
    {
      "cell_type": "markdown",
      "source": [
        "## Projet INF8225\n",
        "\n",
        "### Equipe :\n",
        "- Renaud Lespérance\n",
        "- Gabriel Poupart\n",
        "- Chu Ka Hei\n",
        "- Morgan Péju"
      ],
      "metadata": {
        "id": "-72C3B6J7d09"
      }
    },
    {
      "cell_type": "code",
      "source": [
        "2"
      ],
      "metadata": {
        "id": "s5323CgR7qbl",
        "colab": {
          "base_uri": "https://localhost:8080/"
        },
        "outputId": "ed2960f9-7389-4170-d027-89dd4a26103f"
      },
      "execution_count": 4,
      "outputs": [
        {
          "output_type": "execute_result",
          "data": {
            "text/plain": [
              "2"
            ]
          },
          "metadata": {},
          "execution_count": 4
        }
      ]
    },
    {
      "cell_type": "code",
      "source": [
        "1+1"
      ],
      "metadata": {
        "id": "C1ATCXNgD0WQ",
        "outputId": "cc496a15-598e-41be-de56-7fb37b3f06b2",
        "colab": {
          "base_uri": "https://localhost:8080/"
        }
      },
      "execution_count": 3,
      "outputs": [
        {
          "output_type": "execute_result",
          "data": {
            "text/plain": [
              "2"
            ]
          },
          "metadata": {},
          "execution_count": 3
        }
      ]
    }
  ]
}