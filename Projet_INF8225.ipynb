{
  "nbformat": 4,
  "nbformat_minor": 0,
  "metadata": {
    "colab": {
      "name": "Projet_INF8225.ipynb",
      "provenance": [],
      "authorship_tag": "ABX9TyPbsuBfQ1EQWC/BUpg2Cryz",
      "include_colab_link": true
    },
    "kernelspec": {
      "name": "python3",
      "display_name": "Python 3"
    },
    "language_info": {
      "name": "python"
    }
  },
  "cells": [
    {
      "cell_type": "markdown",
      "metadata": {
        "id": "view-in-github",
        "colab_type": "text"
      },
      "source": [
        "<a href=\"https://colab.research.google.com/github/MorganPeju/inf8225_project/blob/main/Projet_INF8225.ipynb\" target=\"_parent\"><img src=\"https://colab.research.google.com/assets/colab-badge.svg\" alt=\"Open In Colab\"/></a>"
      ]
    },
    {
      "cell_type": "markdown",
      "source": [
        "## Projet INF8225\n",
        "\n",
        "### Equipe :\n",
        "- Renaud Lespérance\n",
        "- Gabriel Poupart\n",
        "- Chu Ka Hei\n",
        "- Morgan Péju"
      ],
      "metadata": {
        "id": "-72C3B6J7d09"
      }
    },
    {
      "cell_type": "code",
      "source": [
        "1"
      ],
      "metadata": {
        "id": "s5323CgR7qbl",
        "outputId": "e1c6264e-b9aa-48a2-df08-b38a1a50d78d",
        "colab": {
          "base_uri": "https://localhost:8080/"
        }
      },
      "execution_count": 2,
      "outputs": [
        {
          "output_type": "execute_result",
          "data": {
            "text/plain": [
              "1"
            ]
          },
          "metadata": {},
          "execution_count": 2
        }
      ]
    }
  ]
}