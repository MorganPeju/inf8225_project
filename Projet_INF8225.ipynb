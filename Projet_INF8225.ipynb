{
  "nbformat": 4,
  "nbformat_minor": 0,
  "metadata": {
    "colab": {
      "name": "Projet_INF8225.ipynb",
      "provenance": [],
      "toc_visible": true,
      "authorship_tag": "ABX9TyNfl/WQPLvnoe4zy5K8caZ+",
      "include_colab_link": true
    },
    "kernelspec": {
      "name": "python3",
      "display_name": "Python 3"
    },
    "language_info": {
      "name": "python"
    }
  },
  "cells": [
    {
      "cell_type": "markdown",
      "metadata": {
        "id": "view-in-github",
        "colab_type": "text"
      },
      "source": [
        "<a href=\"https://colab.research.google.com/github/MorganPeju/inf8225_project/blob/main/Projet_INF8225.ipynb\" target=\"_parent\"><img src=\"https://colab.research.google.com/assets/colab-badge.svg\" alt=\"Open In Colab\"/></a>"
      ]
    },
    {
      "cell_type": "markdown",
      "source": [
        "## Projet INF8225\n",
        "\n",
        "### Equipe :\n",
        "- Renaud Lespérance\n",
        "- Gabriel Poupart\n",
        "- Chu Ka Hei\n",
        "- Morgan Péju"
      ],
      "metadata": {
        "id": "-72C3B6J7d09"
      }
    },
    {
      "cell_type": "code",
      "source": [
        ""
      ],
      "metadata": {
        "id": "s5323CgR7qbl"
      },
      "execution_count": null,
      "outputs": []
    }
  ]
}