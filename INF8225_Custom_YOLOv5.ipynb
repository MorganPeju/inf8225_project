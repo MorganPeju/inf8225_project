{
  "nbformat": 4,
  "nbformat_minor": 0,
  "metadata": {
    "colab": {
      "name": "INF8225_Custom_YOLOv5.ipynb",
      "provenance": [],
      "collapsed_sections": [],
      "toc_visible": true,
      "authorship_tag": "ABX9TyMtonps2MtFSaGylDWTV/1h",
      "include_colab_link": true
    },
    "kernelspec": {
      "name": "python3",
      "display_name": "Python 3"
    },
    "language_info": {
      "name": "python"
    },
    "accelerator": "GPU"
  },
  "cells": [
    {
      "cell_type": "markdown",
      "metadata": {
        "id": "view-in-github",
        "colab_type": "text"
      },
      "source": [
        "<a href=\"https://colab.research.google.com/github/MorganPeju/inf8225_project/blob/main/INF8225_Custom_YOLOv5.ipynb\" target=\"_parent\"><img src=\"https://colab.research.google.com/assets/colab-badge.svg\" alt=\"Open In Colab\"/></a>"
      ]
    },
    {
      "cell_type": "markdown",
      "source": [
        "# Presentation\n",
        "## Project INF8225 - YOLOv5 for fire smoke detection\n",
        "\n",
        "**Team**\n",
        "- Renaud Lespérance\n",
        "- Gabriel Poupart\n",
        "- Chu Ka Hei\n",
        "- Morgan Péju\n",
        "\n",
        "**Data**\n",
        "\n",
        "We're using annotated datasets from AI For Mankind [3], a non-profit organization whose mission is to mobilize the technology community to work on global problems using AI and data. AI For Mankind annotated public photos from HPWREN [2] with bounding boxes for object detection.\n",
        "-\tDataset 1 : 744 annotated images\n",
        "-\tDataset 2 : 2192 annotated images\n",
        "-\tSource : https://github.com/aiformankind/wildfire-smoke-dataset\n",
        "\n"
      ],
      "metadata": {
        "id": "P72FRZ7ephYW"
      }
    },
    {
      "cell_type": "markdown",
      "source": [
        "# Install YOLO & load libraries"
      ],
      "metadata": {
        "id": "_8QLt9Dss8dz"
      }
    },
    {
      "cell_type": "code",
      "execution_count": 1,
      "metadata": {
        "colab": {
          "base_uri": "https://localhost:8080/"
        },
        "id": "7WiS3h0v5UiC",
        "outputId": "033cd960-9c77-428b-8445-7cb954d3ac1b"
      },
      "outputs": [
        {
          "output_type": "stream",
          "name": "stderr",
          "text": [
            "YOLOv5 🚀 v6.1-124-g8c420c4 torch 1.10.0+cu111 CUDA:0 (Tesla P100-PCIE-16GB, 16281MiB)\n"
          ]
        },
        {
          "output_type": "stream",
          "name": "stdout",
          "text": [
            "Setup complete ✅ (2 CPUs, 12.7 GB RAM, 39.9/166.8 GB disk)\n"
          ]
        }
      ],
      "source": [
        "!git clone https://github.com/ultralytics/yolov5  # Clone of YOLOv5\n",
        "%cd yolov5\n",
        "%pip install -qr requirements.txt  # Requirements installation\n",
        "%pip install -q wandb\n",
        "\n",
        "import wandb\n",
        "import torch\n",
        "from yolov5 import utils\n",
        "display = utils.notebook_init()  # Checks"
      ]
    },
    {
      "cell_type": "code",
      "source": [
        "# Load libraries\n",
        "from IPython.display import Image  # for displaying images\n",
        "import os \n",
        "import random\n",
        "import shutil\n",
        "from sklearn.model_selection import train_test_split\n",
        "import yaml\n",
        "from xml.dom import minidom\n",
        "from tqdm import tqdm\n",
        "from PIL import Image, ImageDraw\n",
        "import numpy as np\n",
        "import matplotlib.pyplot as plt\n",
        "\n",
        "import cv2\n",
        "import xml.etree.ElementTree as etree\n",
        "from google.colab.patches import cv2_imshow\n",
        "from google.colab import files\n",
        "\n",
        "!pip install --upgrade --no-cache-dir gdown #NEED to uptade gdown to download dataset"
      ],
      "metadata": {
        "colab": {
          "base_uri": "https://localhost:8080/"
        },
        "id": "wTMzukGq56Qm",
        "outputId": "cf2036dc-9f32-4f17-fd29-0dec4fc57f8f"
      },
      "execution_count": 2,
      "outputs": [
        {
          "output_type": "stream",
          "name": "stdout",
          "text": [
            "Requirement already satisfied: gdown in /usr/local/lib/python3.7/dist-packages (4.2.2)\n",
            "Collecting gdown\n",
            "  Downloading gdown-4.4.0.tar.gz (14 kB)\n",
            "  Installing build dependencies ... \u001b[?25l\u001b[?25hdone\n",
            "  Getting requirements to build wheel ... \u001b[?25l\u001b[?25hdone\n",
            "    Preparing wheel metadata ... \u001b[?25l\u001b[?25hdone\n",
            "Requirement already satisfied: filelock in /usr/local/lib/python3.7/dist-packages (from gdown) (3.6.0)\n",
            "Requirement already satisfied: tqdm in /usr/local/lib/python3.7/dist-packages (from gdown) (4.63.0)\n",
            "Requirement already satisfied: beautifulsoup4 in /usr/local/lib/python3.7/dist-packages (from gdown) (4.6.3)\n",
            "Requirement already satisfied: six in /usr/local/lib/python3.7/dist-packages (from gdown) (1.15.0)\n",
            "Requirement already satisfied: requests[socks] in /usr/local/lib/python3.7/dist-packages (from gdown) (2.23.0)\n",
            "Requirement already satisfied: certifi>=2017.4.17 in /usr/local/lib/python3.7/dist-packages (from requests[socks]->gdown) (2021.10.8)\n",
            "Requirement already satisfied: idna<3,>=2.5 in /usr/local/lib/python3.7/dist-packages (from requests[socks]->gdown) (2.10)\n",
            "Requirement already satisfied: urllib3!=1.25.0,!=1.25.1,<1.26,>=1.21.1 in /usr/local/lib/python3.7/dist-packages (from requests[socks]->gdown) (1.24.3)\n",
            "Requirement already satisfied: chardet<4,>=3.0.2 in /usr/local/lib/python3.7/dist-packages (from requests[socks]->gdown) (3.0.4)\n",
            "Requirement already satisfied: PySocks!=1.5.7,>=1.5.6 in /usr/local/lib/python3.7/dist-packages (from requests[socks]->gdown) (1.7.1)\n",
            "Building wheels for collected packages: gdown\n",
            "  Building wheel for gdown (PEP 517) ... \u001b[?25l\u001b[?25hdone\n",
            "  Created wheel for gdown: filename=gdown-4.4.0-py3-none-any.whl size=14774 sha256=67e2af5087f749b4bbce7018579ba6c07d729afdb5db561d1e7e53ad4f1ba7dd\n",
            "  Stored in directory: /tmp/pip-ephem-wheel-cache-gx5gg7oa/wheels/fb/c3/0e/c4d8ff8bfcb0461afff199471449f642179b74968c15b7a69c\n",
            "Successfully built gdown\n",
            "Installing collected packages: gdown\n",
            "  Attempting uninstall: gdown\n",
            "    Found existing installation: gdown 4.2.2\n",
            "    Uninstalling gdown-4.2.2:\n",
            "      Successfully uninstalled gdown-4.2.2\n",
            "Successfully installed gdown-4.4.0\n"
          ]
        }
      ]
    },
    {
      "cell_type": "markdown",
      "source": [
        "# Preprocessing"
      ],
      "metadata": {
        "id": "zwqvTUGHtBN6"
      }
    },
    {
      "cell_type": "markdown",
      "source": [
        "\n",
        "## Load Datasets"
      ],
      "metadata": {
        "id": "5DoJsaxrqzxc"
      }
    },
    {
      "cell_type": "code",
      "source": [
        "### Dataset import and extraction\n",
        "! gdown 1sEB77bfp2yMkgsSW9703vwDHol_cK6D5 -O smoke_dataset_V1.tar.gz\n",
        "! gdown 1dpTDihAN47rSBRGn_XpEYCCcchXrxnZ0 -O smoke_dataset_V2.tar.gz\n",
        "! mkdir -p /content/yolov5/datasets/smoke_dataset_V1\n",
        "! mkdir -p /content/yolov5/datasets/smoke_dataset_V2\n",
        "! tar xzf smoke_dataset_V1.tar.gz -C '/content/yolov5/datasets/smoke_dataset_V1'\n",
        "! tar xzf smoke_dataset_V2.tar.gz -C '/content/yolov5/datasets/smoke_dataset_V2'"
      ],
      "metadata": {
        "colab": {
          "base_uri": "https://localhost:8080/"
        },
        "id": "Nf3a-dHT6mxx",
        "outputId": "07280189-7d79-4300-e871-f634a8ac995b"
      },
      "execution_count": 3,
      "outputs": [
        {
          "output_type": "stream",
          "name": "stdout",
          "text": [
            "Downloading...\n",
            "From: https://drive.google.com/uc?id=1sEB77bfp2yMkgsSW9703vwDHol_cK6D5\n",
            "To: /content/yolov5/smoke_dataset_V1.tar.gz\n",
            "100% 28.6M/28.6M [00:00<00:00, 162MB/s]\n",
            "Downloading...\n",
            "From: https://drive.google.com/uc?id=1dpTDihAN47rSBRGn_XpEYCCcchXrxnZ0\n",
            "To: /content/yolov5/smoke_dataset_V2.tar.gz\n",
            "100% 501M/501M [00:03<00:00, 142MB/s]\n"
          ]
        }
      ]
    },
    {
      "cell_type": "code",
      "source": [
        "smoke_dataset_V1_path = \"/content/yolov5/datasets/smoke_dataset_V1\"\n",
        "smoke_dataset_V1_images_folder = \"/annotated_bounding_box_hpwren/images\"\n",
        "smoke_dataset_V1_annotations_folder = \"/annotated_bounding_box_hpwren/xmls\"\n",
        "smoke_dataset_V2_path = \"/content/yolov5/datasets/smoke_dataset_V2\"\n",
        "smoke_dataset_V2_images_folder = \"/day_time_wildfire_v2/images\"\n",
        "smoke_dataset_V2_annotations_folder = \"/day_time_wildfire_v2/annotations/xmls\""
      ],
      "metadata": {
        "id": "G3lMNiNr8FpA"
      },
      "execution_count": 4,
      "outputs": []
    },
    {
      "cell_type": "markdown",
      "source": [
        "## Convert Annotation : XML to TXT\n",
        "\n",
        "YOLOv5 supports bounding box annotation text file. Thus we need to convert our datasets' .XML file to .TXT."
      ],
      "metadata": {
        "id": "t6CTy4Qfq46S"
      }
    },
    {
      "cell_type": "code",
      "source": [
        "# Function to get the data from XML Annotation\n",
        "def extract_info_from_xml(\n",
        "    datasets_path,\n",
        "    images_folder,\n",
        "    xml_folder,\n",
        "    file_name\n",
        "    ):\n",
        "    \"\"\"\n",
        "    Get annotations' information from a xml file\n",
        "\n",
        "    Args\n",
        "    ----\n",
        "        datasets_path : datasets' path location\n",
        "        images_folder : path to images' folder\n",
        "        xml_folder : path to annotations' folder\n",
        "        file_name: file name\n",
        "\n",
        "    Output\n",
        "    ------\n",
        "        info_dict : dictionnary of the annotation information\n",
        "    \"\"\"\n",
        "    xml_file_path = f\"{datasets_path}{xml_folder}/{file_name}.xml\"\n",
        "    root = etree.parse(xml_file_path).getroot()\n",
        "    \n",
        "    # Initialise the info dict \n",
        "    info_dict = {}\n",
        "    info_dict['bboxes'] = []\n",
        "\n",
        "    # Parse the XML Tree\n",
        "    for elem in root:\n",
        "        # Get the file name \n",
        "        if elem.tag == \"filename\":\n",
        "            info_dict['filename'] = elem.text\n",
        "            \n",
        "        # Get the image size\n",
        "        elif elem.tag == \"size\":\n",
        "            image_size = []\n",
        "            for subelem in elem:\n",
        "                image_size.append(int(subelem.text))\n",
        "            \n",
        "            info_dict['image_size'] = tuple(image_size)\n",
        "        \n",
        "        # Get details of the bounding box \n",
        "        elif elem.tag == \"object\":\n",
        "            bbox = {}\n",
        "            for subelem in elem:\n",
        "                if subelem.tag == \"name\":\n",
        "                    bbox[\"class\"] = subelem.text\n",
        "                    \n",
        "                elif subelem.tag == \"bndbox\":\n",
        "                    for subsubelem in subelem:\n",
        "                        bbox[subsubelem.tag] = int(subsubelem.text)            \n",
        "            info_dict['bboxes'].append(bbox)\n",
        "    \n",
        "    return info_dict"
      ],
      "metadata": {
        "id": "hNMgAKen58hH"
      },
      "execution_count": 5,
      "outputs": []
    },
    {
      "cell_type": "code",
      "source": [
        "## Test\n",
        "file_name = \"ck0txrkyx611l0a46u3b4n8bb\"\n",
        "test = extract_info_from_xml(smoke_dataset_V1_path,smoke_dataset_V1_images_folder,smoke_dataset_V1_annotations_folder,file_name)\n",
        "\n",
        "print(test)\n"
      ],
      "metadata": {
        "colab": {
          "base_uri": "https://localhost:8080/"
        },
        "id": "4MowlnNB5-uC",
        "outputId": "156ccebd-aaf4-42fb-e922-989045cb6478"
      },
      "execution_count": 6,
      "outputs": [
        {
          "output_type": "stream",
          "name": "stdout",
          "text": [
            "{'bboxes': [{'class': 'smoke', 'xmin': 217, 'ymin': 204, 'xmax': 254, 'ymax': 240}], 'filename': 'ck0txrkyx611l0a46u3b4n8bb.jpeg', 'image_size': (640, 480, 3)}\n"
          ]
        }
      ]
    },
    {
      "cell_type": "code",
      "source": [
        "# Convert the info dict to the required yolo format and write it to disk\n",
        "def convert_to_yolov5(\n",
        "    xml_folder,\n",
        "    info_dict,\n",
        "    class_name_to_id_mapping\n",
        "    ):\n",
        "    \"\"\"\n",
        "    Create annotations' information file (.txt) required for yolo format\n",
        "\n",
        "    Args\n",
        "    ----\n",
        "        xml_folder : path to annotations' folder\n",
        "        info_dict : dictionnary of the annotation information\n",
        "        class_name_to_id_mapping : dictionnary of classes to detect\n",
        "\n",
        "    Output\n",
        "    ------\n",
        "        Create and save annotations' information file (.txt)\n",
        "    \"\"\"\n",
        "    print_buffer = []\n",
        "    \n",
        "    # For each bounding box\n",
        "    for b in info_dict[\"bboxes\"]:\n",
        "        try:\n",
        "            class_id = class_name_to_id_mapping[b[\"class\"]]\n",
        "        except KeyError:\n",
        "            print(\"Invalid Class. Must be one from \", class_name_to_id_mapping.keys())\n",
        "        \n",
        "        # Transform the bbox co-ordinates as per the format required by YOLO v5\n",
        "        b_center_x = (b[\"xmin\"] + b[\"xmax\"]) / 2 \n",
        "        b_center_y = (b[\"ymin\"] + b[\"ymax\"]) / 2\n",
        "        b_width    = (b[\"xmax\"] - b[\"xmin\"])\n",
        "        b_height   = (b[\"ymax\"] - b[\"ymin\"])\n",
        "        \n",
        "        # Normalise the co-ordinates by the dimensions of the image\n",
        "        image_w, image_h, image_c = info_dict[\"image_size\"]  \n",
        "        b_center_x /= image_w \n",
        "        b_center_y /= image_h \n",
        "        b_width    /= image_w \n",
        "        b_height   /= image_h \n",
        "        \n",
        "        #Write the bbox details to the file \n",
        "        print_buffer.append(\"{} {:.3f} {:.3f} {:.3f} {:.3f}\".format(class_id, b_center_x, b_center_y, b_width, b_height))\n",
        "        \n",
        "    # Name of the file which we have to save \n",
        "    save_file_name = os.path.join(xml_folder, info_dict[\"filename\"].replace(\"jpeg\", \"txt\"))\n",
        "    \n",
        "    # Save the annotation to disk\n",
        "    print(\"\\n\".join(print_buffer), file= open(save_file_name, \"w\"))"
      ],
      "metadata": {
        "id": "32PWnRCZ6A8j"
      },
      "execution_count": 7,
      "outputs": []
    },
    {
      "cell_type": "code",
      "source": [
        "# Dictionary that maps class names to IDs\n",
        "class_name_to_id_mapping = {\"smoke\": 0}\n",
        "# Get the annotations\n",
        "xml_folder_path = f\"{smoke_dataset_V1_path}{smoke_dataset_V1_annotations_folder}\"\n",
        "\n",
        "annotations = [x[:-4] for x in os.listdir(xml_folder_path) if x[-3:] == \"xml\"]\n",
        "annotations.sort()\n",
        "prefixes = ('._')\n",
        "\n",
        "\n",
        "\n",
        "for word in annotations[:]:\n",
        "    if word.startswith(prefixes):\n",
        "        annotations.remove(word)\n",
        "\n",
        "\n",
        "# Convert and save the annotations\n",
        "for filename in tqdm(annotations):\n",
        "    info_dict = extract_info_from_xml(smoke_dataset_V1_path,smoke_dataset_V1_images_folder,smoke_dataset_V1_annotations_folder,filename)\n",
        "    convert_to_yolov5(xml_folder_path,info_dict,class_name_to_id_mapping)\n",
        "annotations = [os.path.join(xml_folder_path, x) for x in os.listdir(xml_folder_path) if x[-3:] == \"txt\"]\n"
      ],
      "metadata": {
        "colab": {
          "base_uri": "https://localhost:8080/"
        },
        "id": "2tH4mKKM6DhA",
        "outputId": "2d0c238a-0d8c-4a52-9c14-a63ee5bee61d"
      },
      "execution_count": 8,
      "outputs": [
        {
          "output_type": "stream",
          "name": "stderr",
          "text": [
            "100%|██████████| 744/744 [00:00<00:00, 4651.19it/s]\n"
          ]
        }
      ]
    },
    {
      "cell_type": "markdown",
      "source": [
        "## Display Bounding Box"
      ],
      "metadata": {
        "id": "SIMSSQ6BrY4-"
      }
    },
    {
      "cell_type": "code",
      "source": [
        "def plot_bounding_box(\n",
        "    image, \n",
        "    annotation_list, \n",
        "    class_id_to_name_mapping\n",
        "    ):\n",
        "    \"\"\"\n",
        "    Display an image with its bounding boxes from its .JPEG file and annotation (.TXT)\n",
        "\n",
        "    Args\n",
        "    ----\n",
        "        image : image file\n",
        "        annotation_list : annotations information\n",
        "        class_name_to_id_mapping : dictionnary of classes to detect\n",
        "\n",
        "    Output\n",
        "    ------\n",
        "        Display an image with its bounding boxes\n",
        "    \"\"\"\n",
        "    annotations = np.array(annotation_list)\n",
        "    w, h = image.size\n",
        "    \n",
        "    plotted_image = ImageDraw.Draw(image)\n",
        "\n",
        "    transformed_annotations = np.copy(annotations)\n",
        "    transformed_annotations[:,[1,3]] = annotations[:,[1,3]] * w\n",
        "    transformed_annotations[:,[2,4]] = annotations[:,[2,4]] * h \n",
        "    \n",
        "    transformed_annotations[:,1] = transformed_annotations[:,1] - (transformed_annotations[:,3] / 2)\n",
        "    transformed_annotations[:,2] = transformed_annotations[:,2] - (transformed_annotations[:,4] / 2)\n",
        "    transformed_annotations[:,3] = transformed_annotations[:,1] + transformed_annotations[:,3]\n",
        "    transformed_annotations[:,4] = transformed_annotations[:,2] + transformed_annotations[:,4]\n",
        "    \n",
        "    for ann in transformed_annotations:\n",
        "        obj_cls, x0, y0, x1, y1 = ann\n",
        "        plotted_image.rectangle(((x0,y0), (x1,y1)))\n",
        "        \n",
        "        plotted_image.text((x0, y0 - 10), class_id_to_name_mapping[(int(obj_cls))])\n",
        "    \n",
        "    plt.imshow(np.array(image))\n",
        "    plt.show()\n",
        "\n",
        "# Get any random annotation file \n",
        "random.seed(0)\n",
        "annotation_file = random.choice(annotations)\n",
        "\n",
        "with open(annotation_file, \"r\") as file:\n",
        "    annotation_list = file.read().split(\"\\n\")[:-1]\n",
        "    annotation_list = [x.split(\" \") for x in annotation_list]\n",
        "    annotation_list = [[float(y) for y in x ] for x in annotation_list]\n",
        "\n",
        "#Get the corresponding image file\n",
        "image_file = annotation_file.replace(\"xmls\", \"images\").replace(\"txt\", \"jpeg\")\n",
        "\n",
        "assert os.path.exists(image_file)\n",
        "\n",
        "#Load the image\n",
        "image = Image.open(image_file)\n",
        "\n",
        "#Plot the Bounding Box\n",
        "class_id_to_name_mapping = dict(zip(class_name_to_id_mapping.values(), class_name_to_id_mapping.keys()))\n",
        "plot_bounding_box(image, annotation_list, class_id_to_name_mapping)\n"
      ],
      "metadata": {
        "colab": {
          "base_uri": "https://localhost:8080/",
          "height": 268
        },
        "id": "22YyprKL6GCy",
        "outputId": "b8ce3e9d-acff-4162-9092-c15a7a213408"
      },
      "execution_count": 9,
      "outputs": [
        {
          "output_type": "display_data",
          "data": {
            "text/plain": [
              "<Figure size 432x288 with 1 Axes>"
            ],
            "image/png": "[encoded data removed]"
          },
          "metadata": {
            "needs_background": "light"
          }
        }
      ]
    },
    {
      "cell_type": "markdown",
      "source": [
        "## Train/Test/Val split and preparation"
      ],
      "metadata": {
        "id": "YaOrVOSmrhsN"
      }
    },
    {
      "cell_type": "code",
      "source": [
        "# Read images and annotations\n",
        "xml_folder_path = f\"{smoke_dataset_V1_path}{smoke_dataset_V1_annotations_folder}\"\n",
        "images_folder_path = f\"{smoke_dataset_V1_path}{smoke_dataset_V1_images_folder}\"\n",
        "\n",
        "images = [os.path.join(images_folder_path, x) for x in os.listdir(images_folder_path)]\n",
        "annotations = [os.path.join(xml_folder_path, x) for x in os.listdir(xml_folder_path) if x[-3:] == \"txt\"]\n",
        "\n",
        "images.sort()\n",
        "annotations.sort()\n",
        "\n",
        "prefixes = (images_folder_path+'/._',xml_folder_path+'/._')\n",
        "for word in annotations[:]:\n",
        "    if word.startswith(prefixes):\n",
        "        annotations.remove(word)\n",
        "for word in images[:]:\n",
        "    if word.startswith(prefixes):\n",
        "        images.remove(word)\n",
        "\n",
        "# Split the dataset into train-valid-test splits \n",
        "train_images, val_images, train_annotations, val_annotations = train_test_split(images, annotations, test_size = 0.2, random_state = 1)\n",
        "val_images, test_images, val_annotations, test_annotations = train_test_split(val_images, val_annotations, test_size = 0.5, random_state = 1)\n"
      ],
      "metadata": {
        "id": "OpdmZY4K6I-U"
      },
      "execution_count": 10,
      "outputs": []
    },
    {
      "cell_type": "code",
      "source": [
        "!mkdir -p images/train \n",
        "!mkdir -p images/val \n",
        "!mkdir -p images/test \n",
        "!mkdir -p labels/train \n",
        "!mkdir -p labels/val \n",
        "!mkdir -p labels/test"
      ],
      "metadata": {
        "id": "H5xgO2C96LkM"
      },
      "execution_count": 11,
      "outputs": []
    },
    {
      "cell_type": "code",
      "source": [
        "#Utility function to move images \n",
        "def move_files_to_folder(list_of_files, destination_folder):\n",
        "    for f in list_of_files:\n",
        "        try:\n",
        "            shutil.move(f, destination_folder)\n",
        "        except:\n",
        "            print(f)\n",
        "            assert False\n",
        "\n",
        "# Move the splits into their folders\n",
        "\n",
        "move_files_to_folder(train_images, '/content/yolov5/images/train')\n",
        "move_files_to_folder(val_images, '/content/yolov5/images/val/')\n",
        "move_files_to_folder(test_images, '/content/yolov5/images/test/')\n",
        "move_files_to_folder(train_annotations, '/content/yolov5/labels/train/')\n",
        "move_files_to_folder(val_annotations, '/content/yolov5/labels/val/')\n",
        "move_files_to_folder(test_annotations, '/content/yolov5/labels/test/')\n"
      ],
      "metadata": {
        "id": "ZcGuVHKg6MSk"
      },
      "execution_count": 12,
      "outputs": []
    },
    {
      "cell_type": "markdown",
      "source": [
        "# YOLOv5 Custom Config"
      ],
      "metadata": {
        "id": "1cSz0LlWrq9M"
      }
    },
    {
      "cell_type": "markdown",
      "source": [
        "## Configure folders and detection classes "
      ],
      "metadata": {
        "id": "ttv9nVDurydb"
      }
    },
    {
      "cell_type": "code",
      "source": [
        "with open(r'/content/yolov5/data/smoke.yaml', 'w') as file:\n",
        "    file.write('''\\\n",
        "train: /content/yolov5/images/train/ \n",
        "val:  /content/yolov5/images/val/\n",
        "test: /content/yolov5/images/test/\n",
        "\n",
        "# number of classes\n",
        "nc: 1\n",
        "\n",
        "# class names\n",
        "names: [\"smoke\"]       \n",
        "''')"
      ],
      "metadata": {
        "id": "8houL5Od938s"
      },
      "execution_count": 13,
      "outputs": []
    },
    {
      "cell_type": "markdown",
      "source": [
        "## Configure hyperparameters"
      ],
      "metadata": {
        "id": "CUXf_O8cr58c"
      }
    },
    {
      "cell_type": "code",
      "source": [
        "# Custom hyper-parameters\n",
        "dict_hyperparameters = {\n",
        "  'lr0': 0.01,  # initial learning rate (SGD=1E-2, Adam=1E-3)\n",
        "  'lrf': 0.2,  # final OneCycleLR learning rate (lr0 * lrf)\n",
        "  'momentum': 0.937,  # SGD momentum/Adam beta1\n",
        "  'weight_decay': 0.0005,  # optimizer weight decay 5e-4\n",
        "  'warmup_epochs': 3.0,  # warmup epochs (fractions ok)\n",
        "  'warmup_momentum': 0.8,  # warmup initial momentum\n",
        "  'warmup_bias_lr': 0.1,  # warmup initial bias lr\n",
        "  'box': 0.05,  # box loss gain\n",
        "  'cls': 0.5,  # cls loss gain\n",
        "  'cls_pw': 1.0,  # cls BCELoss positive_weight\n",
        "  'obj': 1.0,  # obj loss gain (scale with pixels)\n",
        "  'obj_pw': 1.0,  # obj BCELoss positive_weight\n",
        "  'iou_t': 0.20,  # IoU training threshold\n",
        "  'anchor_t': 4.0,  # anchor-multiple threshold\n",
        "  # 'anchors': 3,  # anchors per output layer (0 to ignore)\n",
        "  'fl_gamma': 0.0,  # focal loss gamma (efficientDet default gamma=1.5)\n",
        "  'hsv_h': 0.015,  # image HSV-Hue augmentation (fraction)\n",
        "  'hsv_s': 0.7,  # image HSV-Saturation augmentation (fraction)\n",
        "  'hsv_v': 0.4,  # image HSV-Value augmentation (fraction)\n",
        "  'degrees': 0.0,  # image rotation (+/- deg)\n",
        "  'translate': 0.1,  # image translation (+/- fraction)\n",
        "  'scale': 0.5,  # image scale (+/- gain)\n",
        "  'shear': 0.0,  # image shear (+/- deg)\n",
        "  'perspective': 0.0,  # image perspective (+/- fraction), range 0-0.001\n",
        "  'flipud': 0.0,  # image flip up-down (probability)\n",
        "  'fliplr': 0.5,  # image flip left-right (probability)\n",
        "  'mosaic': 1.0,  # image mosaic (probability)\n",
        "  'mixup': 0.0,  # image mixup (probability)\n",
        "  'copy_paste': 0.0  # segment copy-paste (probability)\n",
        "}"
      ],
      "metadata": {
        "id": "Ii01iXxUFYd6"
      },
      "execution_count": 14,
      "outputs": []
    },
    {
      "cell_type": "code",
      "source": [
        "with open(r'/content/yolov5/data/hyps/hyp.custom.yaml', 'w')as outfile:\n",
        "    yaml.dump(dict_hyperparameters, outfile, default_flow_style=False)"
      ],
      "metadata": {
        "id": "oF3A3jjmF4TB"
      },
      "execution_count": 15,
      "outputs": []
    },
    {
      "cell_type": "markdown",
      "source": [
        "## Configure YOLO architecture"
      ],
      "metadata": {
        "id": "bNx1SL3Zr_4Y"
      }
    },
    {
      "cell_type": "code",
      "source": [
        "# Custom Architecture\n",
        "with open(r'/content/yolov5/models/yolo_custom.yaml', 'w') as file:\n",
        "    file.write('''\\\n",
        "# parameters\n",
        "nc: 80  # number of classes\n",
        "depth_multiple: 0.33  # model depth multiple\n",
        "width_multiple: 0.50  # layer channel multiple\n",
        "\n",
        "# anchors\n",
        "anchors:\n",
        "  - [10,13, 16,30, 33,23]  # P3/8\n",
        "  - [30,61, 62,45, 59,119]  # P4/16\n",
        "  - [116,90, 156,198, 373,326]  # P5/32\n",
        "\n",
        "# YOLOv5 backbone\n",
        "backbone:\n",
        "  # [from, number, module, args]\n",
        "  [[-1, 1, Focus, [64, 3]],  # 0-P1/2\n",
        "   [-1, 1, Conv, [128, 3, 2]],  # 1-P2/4\n",
        "   [-1, 3, C3, [128]],\n",
        "   [-1, 1, Conv, [256, 3, 2]],  # 3-P3/8\n",
        "   [-1, 9, C3, [256]],\n",
        "   [-1, 1, Conv, [512, 3, 2]],  # 5-P4/16\n",
        "   [-1, 9, C3, [512]],\n",
        "   [-1, 1, Conv, [1024, 3, 2]],  # 7-P5/32\n",
        "   [-1, 1, SPP, [1024, [5, 9, 13]]],\n",
        "   [-1, 3, C3, [1024, False]],  # 9\n",
        "  ]\n",
        "\n",
        "# YOLOv5 head\n",
        "head:\n",
        "  [[-1, 1, Conv, [512, 1, 1]],\n",
        "   [-1, 1, nn.Upsample, [None, 2, 'nearest']],\n",
        "   [[-1, 6], 1, Concat, [1]],  # cat backbone P4\n",
        "   [-1, 3, C3, [512, False]],  # 13\n",
        "\n",
        "   [-1, 1, Conv, [256, 1, 1]],\n",
        "   [-1, 1, nn.Upsample, [None, 2, 'nearest']],\n",
        "   [[-1, 4], 1, Concat, [1]],  # cat backbone P3\n",
        "   [-1, 3, C3, [256, False]],  # 17 (P3/8-small)\n",
        "\n",
        "   [-1, 1, Conv, [256, 3, 2]],\n",
        "   [[-1, 14], 1, Concat, [1]],  # cat head P4\n",
        "   [-1, 3, C3, [512, False]],  # 20 (P4/16-medium)\n",
        "\n",
        "   [-1, 1, Conv, [512, 3, 2]],\n",
        "   [[-1, 10], 1, Concat, [1]],  # cat head P5\n",
        "   [-1, 3, C3, [1024, False]],  # 23 (P5/32-large)\n",
        "\n",
        "   [[17, 20, 23], 1, Detect, [nc, anchors]],  # Detect(P3, P4, P5)\n",
        "  ]\n",
        "''')"
      ],
      "metadata": {
        "id": "qKylPORgX_CP"
      },
      "execution_count": 16,
      "outputs": []
    },
    {
      "cell_type": "markdown",
      "source": [
        "# Train model"
      ],
      "metadata": {
        "id": "ZrnwAaLhsFKC"
      }
    },
    {
      "cell_type": "code",
      "source": [
        "# Weights & Biases\n",
        "wandb.login()\n",
        "\n",
        "!wandb online  # online / offline to activate or deactivate WandB logging\n",
        "# b2208215d33eed3434e8409697c7ba75b44bf9e8 : Morgan"
      ],
      "metadata": {
        "colab": {
          "base_uri": "https://localhost:8080/",
          "height": 107
        },
        "id": "7hkBGaVUbm2I",
        "outputId": "a2976de8-d3f6-4c24-8dc5-9d1c087dd561"
      },
      "execution_count": 17,
      "outputs": [
        {
          "output_type": "display_data",
          "data": {
            "text/plain": [
              "<IPython.core.display.Javascript object>"
            ],
            "application/javascript": [
              "\n",
              "        window._wandbApiKey = new Promise((resolve, reject) => {\n",
              "            function loadScript(url) {\n",
              "            return new Promise(function(resolve, reject) {\n",
              "                let newScript = document.createElement(\"script\");\n",
              "                newScript.onerror = reject;\n",
              "                newScript.onload = resolve;\n",
              "                document.body.appendChild(newScript);\n",
              "                newScript.src = url;\n",
              "            });\n",
              "            }\n",
              "            loadScript(\"https://cdn.jsdelivr.net/npm/postmate/build/postmate.min.js\").then(() => {\n",
              "            const iframe = document.createElement('iframe')\n",
              "            iframe.style.cssText = \"width:0;height:0;border:none\"\n",
              "            document.body.appendChild(iframe)\n",
              "            const handshake = new Postmate({\n",
              "                container: iframe,\n",
              "                url: 'https://wandb.ai/authorize'\n",
              "            });\n",
              "            const timeout = setTimeout(() => reject(\"Couldn't auto authenticate\"), 5000)\n",
              "            handshake.then(function(child) {\n",
              "                child.on('authorize', data => {\n",
              "                    clearTimeout(timeout)\n",
              "                    resolve(data)\n",
              "                });\n",
              "            });\n",
              "            })\n",
              "        });\n",
              "    "
            ]
          },
          "metadata": {}
        },
        {
          "output_type": "stream",
          "name": "stderr",
          "text": [
            "\u001b[34m\u001b[1mwandb\u001b[0m: You can find your API key in your browser here: https://wandb.ai/authorize\n"
          ]
        },
        {
          "name": "stdout",
          "output_type": "stream",
          "text": [
            "wandb: Paste an API key from your profile and hit enter, or press ctrl+c to quit: ··········\n"
          ]
        },
        {
          "output_type": "stream",
          "name": "stderr",
          "text": [
            "\u001b[34m\u001b[1mwandb\u001b[0m: Appending key for api.wandb.ai to your netrc file: /root/.netrc\n"
          ]
        },
        {
          "output_type": "stream",
          "name": "stdout",
          "text": [
            "W&B online, running your script from this directory will now sync to the cloud.\n"
          ]
        }
      ]
    },
    {
      "cell_type": "code",
      "source": [
        "!python train.py --img 640 --cfg yolo_custom.yaml --hyp hyp.custom.yaml --batch 32 --epochs 50 --data smoke.yaml --weights yolov5s.pt --workers 24 --project INF8225_YOLO_Project --name smoke_train_yolo"
      ],
      "metadata": {
        "colab": {
          "base_uri": "https://localhost:8080/"
        },
        "id": "BWT1-9U26S11",
        "outputId": "a20771f9-97c9-49d9-f206-1b90392c865e"
      },
      "execution_count": 18,
      "outputs": [
        {
          "output_type": "stream",
          "name": "stdout",
          "text": [
            "Downloading https://ultralytics.com/assets/Arial.ttf to /root/.config/Ultralytics/Arial.ttf...\n",
            "\u001b[34m\u001b[1mwandb\u001b[0m: Currently logged in as: \u001b[33mmorgiizz\u001b[0m (use `wandb login --relogin` to force relogin)\n",
            "\u001b[34m\u001b[1mtrain: \u001b[0mweights=yolov5s.pt, cfg=yolo_custom.yaml, data=smoke.yaml, hyp=hyp.custom.yaml, epochs=50, batch_size=32, imgsz=640, rect=False, resume=False, nosave=False, noval=False, noautoanchor=False, evolve=None, bucket=, cache=None, image_weights=False, device=, multi_scale=False, single_cls=False, optimizer=SGD, sync_bn=False, workers=24, project=INF8225_YOLO_Project, name=smoke_train_yolo, exist_ok=False, quad=False, cos_lr=False, label_smoothing=0.0, patience=100, freeze=[0], save_period=-1, local_rank=-1, entity=None, upload_dataset=False, bbox_interval=-1, artifact_alias=latest\n",
            "\u001b[34m\u001b[1mgithub: \u001b[0mup to date with https://github.com/ultralytics/yolov5 ✅\n",
            "YOLOv5 🚀 v6.1-124-g8c420c4 torch 1.10.0+cu111 CUDA:0 (Tesla P100-PCIE-16GB, 16281MiB)\n",
            "\n",
            "\u001b[34m\u001b[1mhyperparameters: \u001b[0manchor_t=4.0, box=0.05, cls=0.5, cls_pw=1.0, copy_paste=0.0, degrees=0.0, fl_gamma=0.0, fliplr=0.5, flipud=0.0, hsv_h=0.015, hsv_s=0.7, hsv_v=0.4, iou_t=0.2, lr0=0.01, lrf=0.2, mixup=0.0, momentum=0.937, mosaic=1.0, obj=1.0, obj_pw=1.0, perspective=0.0, scale=0.5, shear=0.0, translate=0.1, warmup_bias_lr=0.1, warmup_epochs=3.0, warmup_momentum=0.8, weight_decay=0.0005\n",
            "\u001b[34m\u001b[1mTensorBoard: \u001b[0mStart with 'tensorboard --logdir INF8225_YOLO_Project', view at http://localhost:6006/\n",
            "\u001b[34m\u001b[1mwandb\u001b[0m: Tracking run with wandb version 0.12.14\n",
            "\u001b[34m\u001b[1mwandb\u001b[0m: Run data is saved locally in \u001b[35m\u001b[1m/content/yolov5/wandb/run-20220410_231720-3lzigmw2\u001b[0m\n",
            "\u001b[34m\u001b[1mwandb\u001b[0m: Run \u001b[1m`wandb offline`\u001b[0m to turn off syncing.\n",
            "\u001b[34m\u001b[1mwandb\u001b[0m: Syncing run \u001b[33msmoke_train_yolo\u001b[0m\n",
            "\u001b[34m\u001b[1mwandb\u001b[0m: ⭐️ View project at \u001b[34m\u001b[4mhttps://wandb.ai/morgiizz/INF8225_YOLO_Project\u001b[0m\n",
            "\u001b[34m\u001b[1mwandb\u001b[0m: 🚀 View run at \u001b[34m\u001b[4mhttps://wandb.ai/morgiizz/INF8225_YOLO_Project/runs/3lzigmw2\u001b[0m\n",
            "Downloading https://github.com/ultralytics/yolov5/releases/download/v6.1/yolov5s.pt to yolov5s.pt...\n",
            "100% 14.1M/14.1M [00:00<00:00, 36.6MB/s]\n",
            "\n",
            "Overriding model.yaml nc=80 with nc=1\n",
            "\n",
            "                 from  n    params  module                                  arguments                     \n",
            "  0                -1  1      3520  models.common.Focus                     [3, 32, 3]                    \n",
            "  1                -1  1     18560  models.common.Conv                      [32, 64, 3, 2]                \n",
            "  2                -1  1     18816  models.common.C3                        [64, 64, 1]                   \n",
            "  3                -1  1     73984  models.common.Conv                      [64, 128, 3, 2]               \n",
            "  4                -1  3    156928  models.common.C3                        [128, 128, 3]                 \n",
            "  5                -1  1    295424  models.common.Conv                      [128, 256, 3, 2]              \n",
            "  6                -1  3    625152  models.common.C3                        [256, 256, 3]                 \n",
            "  7                -1  1   1180672  models.common.Conv                      [256, 512, 3, 2]              \n",
            "  8                -1  1    656896  models.common.SPP                       [512, 512, [5, 9, 13]]        \n",
            "  9                -1  1   1182720  models.common.C3                        [512, 512, 1, False]          \n",
            " 10                -1  1    131584  models.common.Conv                      [512, 256, 1, 1]              \n",
            " 11                -1  1         0  torch.nn.modules.upsampling.Upsample    [None, 2, 'nearest']          \n",
            " 12           [-1, 6]  1         0  models.common.Concat                    [1]                           \n",
            " 13                -1  1    361984  models.common.C3                        [512, 256, 1, False]          \n",
            " 14                -1  1     33024  models.common.Conv                      [256, 128, 1, 1]              \n",
            " 15                -1  1         0  torch.nn.modules.upsampling.Upsample    [None, 2, 'nearest']          \n",
            " 16           [-1, 4]  1         0  models.common.Concat                    [1]                           \n",
            " 17                -1  1     90880  models.common.C3                        [256, 128, 1, False]          \n",
            " 18                -1  1    147712  models.common.Conv                      [128, 128, 3, 2]              \n",
            " 19          [-1, 14]  1         0  models.common.Concat                    [1]                           \n",
            " 20                -1  1    296448  models.common.C3                        [256, 256, 1, False]          \n",
            " 21                -1  1    590336  models.common.Conv                      [256, 256, 3, 2]              \n",
            " 22          [-1, 10]  1         0  models.common.Concat                    [1]                           \n",
            " 23                -1  1   1182720  models.common.C3                        [512, 512, 1, False]          \n",
            " 24      [17, 20, 23]  1     16182  models.yolo.Detect                      [1, [[10, 13, 16, 30, 33, 23], [30, 61, 62, 45, 59, 119], [116, 90, 156, 198, 373, 326]], [128, 256, 512]]\n",
            "yolo_custom summary: 283 layers, 7063542 parameters, 7063542 gradients, 16.4 GFLOPs\n",
            "\n",
            "Transferred 308/361 items from yolov5s.pt\n",
            "Scaled weight_decay = 0.0005\n",
            "\u001b[34m\u001b[1moptimizer:\u001b[0m SGD with parameter groups 59 weight (no decay), 62 weight, 62 bias\n",
            "\u001b[34m\u001b[1malbumentations: \u001b[0mversion 1.0.3 required by YOLOv5, but version 0.1.12 is currently installed\n",
            "\u001b[34m\u001b[1mtrain: \u001b[0mScanning '/content/yolov5/labels/train' images and labels...595 found, 0 missing, 0 empty, 0 corrupt: 100% 595/595 [00:00<00:00, 1474.73it/s]\n",
            "\u001b[34m\u001b[1mtrain: \u001b[0mNew cache created: /content/yolov5/labels/train.cache\n",
            "\u001b[34m\u001b[1mval: \u001b[0mScanning '/content/yolov5/labels/val' images and labels...74 found, 0 missing, 0 empty, 0 corrupt: 100% 74/74 [00:00<00:00, 694.40it/s]\n",
            "\u001b[34m\u001b[1mval: \u001b[0mNew cache created: /content/yolov5/labels/val.cache\n",
            "Plotting labels to INF8225_YOLO_Project/smoke_train_yolo/labels.jpg... \n",
            "\n",
            "\u001b[34m\u001b[1mAutoAnchor: \u001b[0m4.68 anchors/target, 1.000 Best Possible Recall (BPR). Current anchors are a good fit to dataset ✅\n",
            "Image sizes 640 train, 640 val\n",
            "Using 2 dataloader workers\n",
            "Logging results to \u001b[1mINF8225_YOLO_Project/smoke_train_yolo\u001b[0m\n",
            "Starting training for 50 epochs...\n",
            "\n",
            "     Epoch   gpu_mem       box       obj       cls    labels  img_size\n",
            "      0/49     7.72G    0.1118   0.02257         0        37       640: 100% 19/19 [00:19<00:00,  1.04s/it]\n",
            "               Class     Images     Labels          P          R     mAP@.5 mAP@.5:.95: 100% 2/2 [00:01<00:00,  1.11it/s]\n",
            "                 all         74         74    0.00225     0.0405   0.000401   6.31e-05\n",
            "\n",
            "     Epoch   gpu_mem       box       obj       cls    labels  img_size\n",
            "      1/49     7.72G   0.09359   0.01924         0        23       640: 100% 19/19 [00:16<00:00,  1.15it/s]\n",
            "               Class     Images     Labels          P          R     mAP@.5 mAP@.5:.95: 100% 2/2 [00:01<00:00,  1.59it/s]\n",
            "                 all         74         74   0.000315     0.0946   0.000175   3.64e-05\n",
            "\n",
            "     Epoch   gpu_mem       box       obj       cls    labels  img_size\n",
            "      2/49     7.72G   0.08418   0.01965         0        41       640: 100% 19/19 [00:16<00:00,  1.12it/s]\n",
            "               Class     Images     Labels          P          R     mAP@.5 mAP@.5:.95: 100% 2/2 [00:01<00:00,  1.72it/s]\n",
            "                 all         74         74    0.00285      0.189    0.00149   0.000303\n",
            "\n",
            "     Epoch   gpu_mem       box       obj       cls    labels  img_size\n",
            "      3/49     7.72G   0.07981   0.02077         0        45       640: 100% 19/19 [00:16<00:00,  1.12it/s]\n",
            "               Class     Images     Labels          P          R     mAP@.5 mAP@.5:.95: 100% 2/2 [00:01<00:00,  1.52it/s]\n",
            "                 all         74         74    0.00589     0.0135      0.002   0.000446\n",
            "\n",
            "     Epoch   gpu_mem       box       obj       cls    labels  img_size\n",
            "      4/49     7.72G   0.07773   0.01907         0        29       640: 100% 19/19 [00:16<00:00,  1.17it/s]\n",
            "               Class     Images     Labels          P          R     mAP@.5 mAP@.5:.95: 100% 2/2 [00:04<00:00,  2.30s/it]\n",
            "                 all         74         74     0.0125     0.0676    0.00523   0.000942\n",
            "\n",
            "     Epoch   gpu_mem       box       obj       cls    labels  img_size\n",
            "      5/49     7.72G   0.07186   0.01999         0        38       640: 100% 19/19 [00:16<00:00,  1.17it/s]\n",
            "               Class     Images     Labels          P          R     mAP@.5 mAP@.5:.95: 100% 2/2 [00:01<00:00,  1.52it/s]\n",
            "                 all         74         74      0.042      0.162     0.0309    0.00597\n",
            "\n",
            "     Epoch   gpu_mem       box       obj       cls    labels  img_size\n",
            "      6/49     7.72G   0.06612   0.01846         0        30       640: 100% 19/19 [00:16<00:00,  1.13it/s]\n",
            "               Class     Images     Labels          P          R     mAP@.5 mAP@.5:.95: 100% 2/2 [00:01<00:00,  1.42it/s]\n",
            "                 all         74         74     0.0708      0.324     0.0546      0.011\n",
            "\n",
            "     Epoch   gpu_mem       box       obj       cls    labels  img_size\n",
            "      7/49     7.72G   0.06324   0.01752         0        27       640: 100% 19/19 [00:16<00:00,  1.14it/s]\n",
            "               Class     Images     Labels          P          R     mAP@.5 mAP@.5:.95: 100% 2/2 [00:01<00:00,  1.64it/s]\n",
            "                 all         74         74      0.285      0.162     0.0992     0.0191\n",
            "\n",
            "     Epoch   gpu_mem       box       obj       cls    labels  img_size\n",
            "      8/49     7.72G   0.05948   0.01618         0        41       640: 100% 19/19 [00:17<00:00,  1.11it/s]\n",
            "               Class     Images     Labels          P          R     mAP@.5 mAP@.5:.95: 100% 2/2 [00:01<00:00,  1.62it/s]\n",
            "                 all         74         74      0.355       0.27      0.185     0.0484\n",
            "\n",
            "     Epoch   gpu_mem       box       obj       cls    labels  img_size\n",
            "      9/49     7.72G   0.05872   0.01473         0        37       640: 100% 19/19 [00:16<00:00,  1.15it/s]\n",
            "               Class     Images     Labels          P          R     mAP@.5 mAP@.5:.95: 100% 2/2 [00:04<00:00,  2.26s/it]\n",
            "                 all         74         74      0.491      0.378      0.293     0.0778\n",
            "\n",
            "     Epoch   gpu_mem       box       obj       cls    labels  img_size\n",
            "     10/49     7.72G   0.05487   0.01466         0        34       640: 100% 19/19 [00:16<00:00,  1.18it/s]\n",
            "               Class     Images     Labels          P          R     mAP@.5 mAP@.5:.95: 100% 2/2 [00:01<00:00,  1.59it/s]\n",
            "                 all         74         74      0.268      0.514      0.269     0.0639\n",
            "\n",
            "     Epoch   gpu_mem       box       obj       cls    labels  img_size\n",
            "     11/49     7.72G   0.05106    0.0135         0        37       640: 100% 19/19 [00:16<00:00,  1.12it/s]\n",
            "               Class     Images     Labels          P          R     mAP@.5 mAP@.5:.95: 100% 2/2 [00:01<00:00,  1.90it/s]\n",
            "                 all         74         74     0.0175      0.027    0.00183   0.000643\n",
            "\n",
            "     Epoch   gpu_mem       box       obj       cls    labels  img_size\n",
            "     12/49     7.72G   0.05062   0.01288         0        24       640: 100% 19/19 [00:17<00:00,  1.10it/s]\n",
            "               Class     Images     Labels          P          R     mAP@.5 mAP@.5:.95: 100% 2/2 [00:01<00:00,  1.65it/s]\n",
            "                 all         74         74      0.198       0.27      0.108     0.0447\n",
            "\n",
            "     Epoch   gpu_mem       box       obj       cls    labels  img_size\n",
            "     13/49     7.72G   0.04781   0.01197         0        31       640: 100% 19/19 [00:17<00:00,  1.11it/s]\n",
            "               Class     Images     Labels          P          R     mAP@.5 mAP@.5:.95: 100% 2/2 [00:01<00:00,  1.62it/s]\n",
            "                 all         74         74      0.697      0.716      0.671      0.222\n",
            "\n",
            "     Epoch   gpu_mem       box       obj       cls    labels  img_size\n",
            "     14/49     7.72G   0.04767    0.0116         0        29       640: 100% 19/19 [00:16<00:00,  1.17it/s]\n",
            "               Class     Images     Labels          P          R     mAP@.5 mAP@.5:.95: 100% 2/2 [00:04<00:00,  2.14s/it]\n",
            "                 all         74         74      0.773      0.689      0.733       0.25\n",
            "\n",
            "     Epoch   gpu_mem       box       obj       cls    labels  img_size\n",
            "     15/49     7.72G   0.04707   0.01193         0        31       640: 100% 19/19 [00:16<00:00,  1.18it/s]\n",
            "               Class     Images     Labels          P          R     mAP@.5 mAP@.5:.95: 100% 2/2 [00:01<00:00,  1.65it/s]\n",
            "                 all         74         74      0.771      0.864      0.821      0.306\n",
            "\n",
            "     Epoch   gpu_mem       box       obj       cls    labels  img_size\n",
            "     16/49     7.72G   0.04635   0.01125         0        37       640: 100% 19/19 [00:16<00:00,  1.14it/s]\n",
            "               Class     Images     Labels          P          R     mAP@.5 mAP@.5:.95: 100% 2/2 [00:01<00:00,  1.84it/s]\n",
            "                 all         74         74      0.822      0.811      0.813      0.281\n",
            "\n",
            "     Epoch   gpu_mem       box       obj       cls    labels  img_size\n",
            "     17/49     7.72G   0.04538   0.01126         0        31       640: 100% 19/19 [00:17<00:00,  1.11it/s]\n",
            "               Class     Images     Labels          P          R     mAP@.5 mAP@.5:.95: 100% 2/2 [00:01<00:00,  1.57it/s]\n",
            "                 all         74         74      0.729      0.838      0.848      0.399\n",
            "\n",
            "     Epoch   gpu_mem       box       obj       cls    labels  img_size\n",
            "     18/49     7.72G   0.04376    0.0113         0        35       640: 100% 19/19 [00:16<00:00,  1.14it/s]\n",
            "               Class     Images     Labels          P          R     mAP@.5 mAP@.5:.95: 100% 2/2 [00:01<00:00,  1.86it/s]\n",
            "                 all         74         74      0.792      0.824      0.814       0.34\n",
            "\n",
            "     Epoch   gpu_mem       box       obj       cls    labels  img_size\n",
            "     19/49     7.72G   0.04277   0.01108         0        34       640: 100% 19/19 [00:17<00:00,  1.11it/s]\n",
            "               Class     Images     Labels          P          R     mAP@.5 mAP@.5:.95: 100% 2/2 [00:04<00:00,  2.12s/it]\n",
            "                 all         74         74      0.833      0.811      0.863      0.377\n",
            "\n",
            "     Epoch   gpu_mem       box       obj       cls    labels  img_size\n",
            "     20/49     7.72G   0.04159   0.01036         0        35       640: 100% 19/19 [00:16<00:00,  1.17it/s]\n",
            "               Class     Images     Labels          P          R     mAP@.5 mAP@.5:.95: 100% 2/2 [00:01<00:00,  1.83it/s]\n",
            "                 all         74         74      0.844      0.878      0.883      0.366\n",
            "\n",
            "     Epoch   gpu_mem       box       obj       cls    labels  img_size\n",
            "     21/49     7.72G   0.04152   0.01063         0        37       640: 100% 19/19 [00:17<00:00,  1.09it/s]\n",
            "               Class     Images     Labels          P          R     mAP@.5 mAP@.5:.95: 100% 2/2 [00:01<00:00,  1.71it/s]\n",
            "                 all         74         74      0.792      0.824      0.866      0.326\n",
            "\n",
            "     Epoch   gpu_mem       box       obj       cls    labels  img_size\n",
            "     22/49     7.72G   0.03998      0.01         0        28       640: 100% 19/19 [00:17<00:00,  1.08it/s]\n",
            "               Class     Images     Labels          P          R     mAP@.5 mAP@.5:.95: 100% 2/2 [00:01<00:00,  1.89it/s]\n",
            "                 all         74         74      0.877      0.865        0.9      0.396\n",
            "\n",
            "     Epoch   gpu_mem       box       obj       cls    labels  img_size\n",
            "     23/49     7.72G   0.03977   0.01028         0        34       640: 100% 19/19 [00:16<00:00,  1.13it/s]\n",
            "               Class     Images     Labels          P          R     mAP@.5 mAP@.5:.95: 100% 2/2 [00:01<00:00,  1.74it/s]\n",
            "                 all         74         74      0.833      0.878      0.917      0.455\n",
            "\n",
            "     Epoch   gpu_mem       box       obj       cls    labels  img_size\n",
            "     24/49     7.72G   0.03846  0.009739         0        33       640: 100% 19/19 [00:17<00:00,  1.10it/s]\n",
            "               Class     Images     Labels          P          R     mAP@.5 mAP@.5:.95: 100% 2/2 [00:06<00:00,  3.46s/it]\n",
            "                 all         74         74      0.927      0.865      0.914      0.405\n",
            "\n",
            "     Epoch   gpu_mem       box       obj       cls    labels  img_size\n",
            "     25/49     7.72G   0.03939   0.01026         0        37       640: 100% 19/19 [00:15<00:00,  1.20it/s]\n",
            "               Class     Images     Labels          P          R     mAP@.5 mAP@.5:.95: 100% 2/2 [00:01<00:00,  1.88it/s]\n",
            "                 all         74         74      0.375      0.486      0.395      0.137\n",
            "\n",
            "     Epoch   gpu_mem       box       obj       cls    labels  img_size\n",
            "     26/49     7.72G   0.03733  0.009611         0        34       640: 100% 19/19 [00:16<00:00,  1.12it/s]\n",
            "               Class     Images     Labels          P          R     mAP@.5 mAP@.5:.95: 100% 2/2 [00:01<00:00,  1.78it/s]\n",
            "                 all         74         74      0.397      0.311      0.261      0.075\n",
            "\n",
            "     Epoch   gpu_mem       box       obj       cls    labels  img_size\n",
            "     27/49     7.72G   0.03866  0.009672         0        33       640: 100% 19/19 [00:17<00:00,  1.09it/s]\n",
            "               Class     Images     Labels          P          R     mAP@.5 mAP@.5:.95: 100% 2/2 [00:01<00:00,  1.70it/s]\n",
            "                 all         74         74      0.786      0.595      0.725       0.27\n",
            "\n",
            "     Epoch   gpu_mem       box       obj       cls    labels  img_size\n",
            "     28/49     7.72G   0.03782  0.009497         0        32       640: 100% 19/19 [00:16<00:00,  1.13it/s]\n",
            "               Class     Images     Labels          P          R     mAP@.5 mAP@.5:.95: 100% 2/2 [00:01<00:00,  1.81it/s]\n",
            "                 all         74         74      0.581      0.432      0.405      0.148\n",
            "\n",
            "     Epoch   gpu_mem       box       obj       cls    labels  img_size\n",
            "     29/49     7.72G   0.03717  0.009377         0        21       640: 100% 19/19 [00:17<00:00,  1.07it/s]\n",
            "               Class     Images     Labels          P          R     mAP@.5 mAP@.5:.95: 100% 2/2 [00:04<00:00,  2.13s/it]\n",
            "                 all         74         74      0.827      0.905      0.886      0.393\n",
            "\n",
            "     Epoch   gpu_mem       box       obj       cls    labels  img_size\n",
            "     30/49     7.72G   0.03781  0.009393         0        34       640: 100% 19/19 [00:16<00:00,  1.19it/s]\n",
            "               Class     Images     Labels          P          R     mAP@.5 mAP@.5:.95: 100% 2/2 [00:01<00:00,  2.00it/s]\n",
            "                 all         74         74      0.919      0.919      0.941      0.485\n",
            "\n",
            "     Epoch   gpu_mem       box       obj       cls    labels  img_size\n",
            "     31/49     7.72G   0.03716  0.009119         0        27       640: 100% 19/19 [00:17<00:00,  1.11it/s]\n",
            "               Class     Images     Labels          P          R     mAP@.5 mAP@.5:.95: 100% 2/2 [00:01<00:00,  1.79it/s]\n",
            "                 all         74         74       0.93      0.905      0.964       0.47\n",
            "\n",
            "     Epoch   gpu_mem       box       obj       cls    labels  img_size\n",
            "     32/49     7.72G    0.0359  0.009293         0        31       640: 100% 19/19 [00:16<00:00,  1.14it/s]\n",
            "               Class     Images     Labels          P          R     mAP@.5 mAP@.5:.95: 100% 2/2 [00:01<00:00,  1.65it/s]\n",
            "                 all         74         74      0.829      0.919      0.916      0.428\n",
            "\n",
            "     Epoch   gpu_mem       box       obj       cls    labels  img_size\n",
            "     33/49     7.72G     0.036  0.009488         0        42       640: 100% 19/19 [00:17<00:00,  1.10it/s]\n",
            "               Class     Images     Labels          P          R     mAP@.5 mAP@.5:.95: 100% 2/2 [00:01<00:00,  1.71it/s]\n",
            "                 all         74         74      0.848      0.905      0.907      0.487\n",
            "\n",
            "     Epoch   gpu_mem       box       obj       cls    labels  img_size\n",
            "     34/49     7.72G   0.03541  0.009321         0        27       640: 100% 19/19 [00:17<00:00,  1.08it/s]\n",
            "               Class     Images     Labels          P          R     mAP@.5 mAP@.5:.95: 100% 2/2 [00:03<00:00,  1.88s/it]\n",
            "                 all         74         74       0.88      0.892      0.928      0.505\n",
            "\n",
            "     Epoch   gpu_mem       box       obj       cls    labels  img_size\n",
            "     35/49     7.72G   0.03645  0.008994         0        28       640: 100% 19/19 [00:16<00:00,  1.16it/s]\n",
            "               Class     Images     Labels          P          R     mAP@.5 mAP@.5:.95: 100% 2/2 [00:01<00:00,  1.83it/s]\n",
            "                 all         74         74       0.93      0.905      0.939      0.474\n",
            "\n",
            "     Epoch   gpu_mem       box       obj       cls    labels  img_size\n",
            "     36/49     7.72G   0.03498  0.009279         0        36       640: 100% 19/19 [00:17<00:00,  1.12it/s]\n",
            "               Class     Images     Labels          P          R     mAP@.5 mAP@.5:.95: 100% 2/2 [00:01<00:00,  1.80it/s]\n",
            "                 all         74         74      0.893      0.905      0.924      0.461\n",
            "\n",
            "     Epoch   gpu_mem       box       obj       cls    labels  img_size\n",
            "     37/49     7.72G   0.03435   0.00891         0        38       640: 100% 19/19 [00:17<00:00,  1.10it/s]\n",
            "               Class     Images     Labels          P          R     mAP@.5 mAP@.5:.95: 100% 2/2 [00:01<00:00,  1.62it/s]\n",
            "                 all         74         74      0.944      0.919      0.966      0.409\n",
            "\n",
            "     Epoch   gpu_mem       box       obj       cls    labels  img_size\n",
            "     38/49     7.72G   0.03467  0.008775         0        34       640: 100% 19/19 [00:16<00:00,  1.15it/s]\n",
            "               Class     Images     Labels          P          R     mAP@.5 mAP@.5:.95: 100% 2/2 [00:01<00:00,  1.68it/s]\n",
            "                 all         74         74      0.941      0.865      0.933       0.47\n",
            "\n",
            "     Epoch   gpu_mem       box       obj       cls    labels  img_size\n",
            "     39/49     7.72G    0.0347  0.009224         0        35       640: 100% 19/19 [00:17<00:00,  1.09it/s]\n",
            "               Class     Images     Labels          P          R     mAP@.5 mAP@.5:.95: 100% 2/2 [00:04<00:00,  2.05s/it]\n",
            "                 all         74         74      0.927      0.865      0.928      0.523\n",
            "\n",
            "     Epoch   gpu_mem       box       obj       cls    labels  img_size\n",
            "     40/49     7.72G   0.03426  0.008829         0        40       640: 100% 19/19 [00:16<00:00,  1.14it/s]\n",
            "               Class     Images     Labels          P          R     mAP@.5 mAP@.5:.95: 100% 2/2 [00:01<00:00,  1.64it/s]\n",
            "                 all         74         74      0.933      0.946      0.951      0.526\n",
            "\n",
            "     Epoch   gpu_mem       box       obj       cls    labels  img_size\n",
            "     41/49     7.72G   0.03436  0.008863         0        27       640: 100% 19/19 [00:16<00:00,  1.14it/s]\n",
            "               Class     Images     Labels          P          R     mAP@.5 mAP@.5:.95: 100% 2/2 [00:01<00:00,  1.74it/s]\n",
            "                 all         74         74      0.946      0.946      0.976      0.502\n",
            "\n",
            "     Epoch   gpu_mem       box       obj       cls    labels  img_size\n",
            "     42/49     7.72G    0.0332  0.008666         0        43       640: 100% 19/19 [00:17<00:00,  1.09it/s]\n",
            "               Class     Images     Labels          P          R     mAP@.5 mAP@.5:.95: 100% 2/2 [00:01<00:00,  1.70it/s]\n",
            "                 all         74         74      0.957      0.905      0.969      0.484\n",
            "\n",
            "     Epoch   gpu_mem       box       obj       cls    labels  img_size\n",
            "     43/49     7.72G   0.03269  0.008793         0        36       640: 100% 19/19 [00:17<00:00,  1.11it/s]\n",
            "               Class     Images     Labels          P          R     mAP@.5 mAP@.5:.95: 100% 2/2 [00:01<00:00,  1.72it/s]\n",
            "                 all         74         74      0.971      0.919      0.973      0.506\n",
            "\n",
            "     Epoch   gpu_mem       box       obj       cls    labels  img_size\n",
            "     44/49     7.72G   0.03158  0.008733         0        29       640: 100% 19/19 [00:17<00:00,  1.10it/s]\n",
            "               Class     Images     Labels          P          R     mAP@.5 mAP@.5:.95: 100% 2/2 [00:04<00:00,  2.13s/it]\n",
            "                 all         74         74      0.959      0.946      0.973      0.508\n",
            "\n",
            "     Epoch   gpu_mem       box       obj       cls    labels  img_size\n",
            "     45/49     7.72G   0.03429  0.009024         0        33       640: 100% 19/19 [00:16<00:00,  1.14it/s]\n",
            "               Class     Images     Labels          P          R     mAP@.5 mAP@.5:.95: 100% 2/2 [00:01<00:00,  1.75it/s]\n",
            "                 all         74         74      0.893      0.905      0.957      0.449\n",
            "\n",
            "     Epoch   gpu_mem       box       obj       cls    labels  img_size\n",
            "     46/49     7.72G    0.0334    0.0084         0        32       640: 100% 19/19 [00:17<00:00,  1.12it/s]\n",
            "               Class     Images     Labels          P          R     mAP@.5 mAP@.5:.95: 100% 2/2 [00:01<00:00,  1.65it/s]\n",
            "                 all         74         74      0.946      0.946      0.984       0.55\n",
            "\n",
            "     Epoch   gpu_mem       box       obj       cls    labels  img_size\n",
            "     47/49     7.72G   0.03271  0.008706         0        33       640: 100% 19/19 [00:16<00:00,  1.12it/s]\n",
            "               Class     Images     Labels          P          R     mAP@.5 mAP@.5:.95: 100% 2/2 [00:01<00:00,  1.51it/s]\n",
            "                 all         74         74      0.973      0.959      0.988      0.534\n",
            "\n",
            "     Epoch   gpu_mem       box       obj       cls    labels  img_size\n",
            "     48/49     7.72G    0.0321  0.008368         0        28       640: 100% 19/19 [00:17<00:00,  1.07it/s]\n",
            "               Class     Images     Labels          P          R     mAP@.5 mAP@.5:.95: 100% 2/2 [00:01<00:00,  1.76it/s]\n",
            "                 all         74         74      0.985      0.959      0.988      0.566\n",
            "\n",
            "     Epoch   gpu_mem       box       obj       cls    labels  img_size\n",
            "     49/49     7.72G   0.03196  0.008399         0        33       640: 100% 19/19 [00:17<00:00,  1.11it/s]\n",
            "               Class     Images     Labels          P          R     mAP@.5 mAP@.5:.95: 100% 2/2 [00:04<00:00,  2.02s/it]\n",
            "                 all         74         74      0.933      0.946      0.975      0.526\n",
            "\n",
            "50 epochs completed in 0.281 hours.\n",
            "Optimizer stripped from INF8225_YOLO_Project/smoke_train_yolo/weights/last.pt, 14.5MB\n",
            "Optimizer stripped from INF8225_YOLO_Project/smoke_train_yolo/weights/best.pt, 14.5MB\n",
            "\n",
            "Validating INF8225_YOLO_Project/smoke_train_yolo/weights/best.pt...\n",
            "Fusing layers... \n",
            "yolo_custom summary: 224 layers, 7053910 parameters, 0 gradients, 16.3 GFLOPs\n",
            "               Class     Images     Labels          P          R     mAP@.5 mAP@.5:.95: 100% 2/2 [00:02<00:00,  1.35s/it]\n",
            "                 all         74         74      0.985      0.959      0.988      0.566\n",
            "\n",
            "\u001b[34m\u001b[1mwandb\u001b[0m: Waiting for W&B process to finish... \u001b[32m(success).\u001b[0m\n",
            "\u001b[34m\u001b[1mwandb\u001b[0m:                                                                                \n",
            "\u001b[34m\u001b[1mwandb\u001b[0m: \n",
            "\u001b[34m\u001b[1mwandb\u001b[0m: Run history:\n",
            "\u001b[34m\u001b[1mwandb\u001b[0m:      metrics/mAP_0.5 ▁▁▁▁▁▁▂▂▃▁▂▆▇▇▇▇▇▇▇▇▄▃▄▇█▇▇█████████████\n",
            "\u001b[34m\u001b[1mwandb\u001b[0m: metrics/mAP_0.5:0.95 ▁▁▁▁▁▁▁▂▂▁▂▄▅▄▆▆▆▅▇▆▃▂▃▆▇▆▇▇▇▆▇▇▇▇▇▇████\n",
            "\u001b[34m\u001b[1mwandb\u001b[0m:    metrics/precision ▁▁▁▁▁▂▃▄▃▁▂▆▆▇▆▇▇▇▇█▄▄▅▇█▇▇▇████████████\n",
            "\u001b[34m\u001b[1mwandb\u001b[0m:       metrics/recall ▁▂▂▁▂▃▂▃▅▁▃▆▇▇▇▇▇▇▇▇▄▃▄████▇██▇▇████████\n",
            "\u001b[34m\u001b[1mwandb\u001b[0m:       train/box_loss █▆▆▅▄▄▄▃▃▃▃▂▂▂▂▂▂▂▂▂▂▁▂▂▂▁▁▁▁▁▁▁▁▁▁▁▁▁▁▁\n",
            "\u001b[34m\u001b[1mwandb\u001b[0m:       train/cls_loss ▁▁▁▁▁▁▁▁▁▁▁▁▁▁▁▁▁▁▁▁▁▁▁▁▁▁▁▁▁▁▁▁▁▁▁▁▁▁▁▁\n",
            "\u001b[34m\u001b[1mwandb\u001b[0m:       train/obj_loss █▆▇▇▇▆▆▅▄▄▃▃▃▂▂▂▂▂▂▂▂▂▂▂▁▁▁▂▁▁▁▁▁▁▁▁▁▁▁▁\n",
            "\u001b[34m\u001b[1mwandb\u001b[0m:         val/box_loss ▇█▆▆▅▅▅▄▃▆▄▂▂▂▂▂▂▂▁▂▃▄▃▂▁▂▁▁▁▂▁▁▁▁▁▁▁▁▁▁\n",
            "\u001b[34m\u001b[1mwandb\u001b[0m:         val/cls_loss ▁▁▁▁▁▁▁▁▁▁▁▁▁▁▁▁▁▁▁▁▁▁▁▁▁▁▁▁▁▁▁▁▁▁▁▁▁▁▁▁\n",
            "\u001b[34m\u001b[1mwandb\u001b[0m:         val/obj_loss ▅▃▄▄▅▅▄▄▄▆█▂▂▂▂▂▂▂▁▁▄▅▄▁▁▂▁▁▁▁▁▁▁▁▁▁▁▁▁▁\n",
            "\u001b[34m\u001b[1mwandb\u001b[0m:                x/lr0 ▁▃▄▆████▇▇▇▇▇▆▆▆▆▆▆▅▅▅▅▅▄▄▄▄▄▃▃▃▃▃▃▂▂▂▂▁\n",
            "\u001b[34m\u001b[1mwandb\u001b[0m:                x/lr1 ▁▃▄▆████▇▇▇▇▇▆▆▆▆▆▆▅▅▅▅▅▄▄▄▄▄▃▃▃▃▃▃▂▂▂▂▁\n",
            "\u001b[34m\u001b[1mwandb\u001b[0m:                x/lr2 █▇▅▄▂▂▂▂▂▂▂▁▁▁▁▁▁▁▁▁▁▁▁▁▁▁▁▁▁▁▁▁▁▁▁▁▁▁▁▁\n",
            "\u001b[34m\u001b[1mwandb\u001b[0m: \n",
            "\u001b[34m\u001b[1mwandb\u001b[0m: Run summary:\n",
            "\u001b[34m\u001b[1mwandb\u001b[0m:           best/epoch 48\n",
            "\u001b[34m\u001b[1mwandb\u001b[0m:         best/mAP_0.5 0.98818\n",
            "\u001b[34m\u001b[1mwandb\u001b[0m:    best/mAP_0.5:0.95 0.5656\n",
            "\u001b[34m\u001b[1mwandb\u001b[0m:       best/precision 0.98527\n",
            "\u001b[34m\u001b[1mwandb\u001b[0m:          best/recall 0.95946\n",
            "\u001b[34m\u001b[1mwandb\u001b[0m:      metrics/mAP_0.5 0.9881\n",
            "\u001b[34m\u001b[1mwandb\u001b[0m: metrics/mAP_0.5:0.95 0.5657\n",
            "\u001b[34m\u001b[1mwandb\u001b[0m:    metrics/precision 0.98529\n",
            "\u001b[34m\u001b[1mwandb\u001b[0m:       metrics/recall 0.95946\n",
            "\u001b[34m\u001b[1mwandb\u001b[0m:       train/box_loss 0.03196\n",
            "\u001b[34m\u001b[1mwandb\u001b[0m:       train/cls_loss 0.0\n",
            "\u001b[34m\u001b[1mwandb\u001b[0m:       train/obj_loss 0.0084\n",
            "\u001b[34m\u001b[1mwandb\u001b[0m:         val/box_loss 0.0303\n",
            "\u001b[34m\u001b[1mwandb\u001b[0m:         val/cls_loss 0.0\n",
            "\u001b[34m\u001b[1mwandb\u001b[0m:         val/obj_loss 0.00537\n",
            "\u001b[34m\u001b[1mwandb\u001b[0m:                x/lr0 0.00232\n",
            "\u001b[34m\u001b[1mwandb\u001b[0m:                x/lr1 0.00232\n",
            "\u001b[34m\u001b[1mwandb\u001b[0m:                x/lr2 0.00232\n",
            "\u001b[34m\u001b[1mwandb\u001b[0m: \n",
            "\u001b[34m\u001b[1mwandb\u001b[0m: Synced \u001b[33msmoke_train_yolo\u001b[0m: \u001b[34m\u001b[4mhttps://wandb.ai/morgiizz/INF8225_YOLO_Project/runs/3lzigmw2\u001b[0m\n",
            "\u001b[34m\u001b[1mwandb\u001b[0m: Synced 5 W&B file(s), 335 media file(s), 1 artifact file(s) and 0 other file(s)\n",
            "\u001b[34m\u001b[1mwandb\u001b[0m: Find logs at: \u001b[35m\u001b[1m./wandb/run-20220410_231720-3lzigmw2/logs\u001b[0m\n",
            "Results saved to \u001b[1mINF8225_YOLO_Project/smoke_train_yolo\u001b[0m\n"
          ]
        }
      ]
    },
    {
      "cell_type": "code",
      "source": [
        "!python detect.py --source /content/yolov5/images/test/ --weights runs/train/smoke_train_yolo/weights/best.pt --conf 0.25 --name yolo_smoke_detection"
      ],
      "metadata": {
        "colab": {
          "base_uri": "https://localhost:8080/"
        },
        "id": "wSesGCnD6VJn",
        "outputId": "eba8247c-59c9-44d3-ad6f-c97ca4a99e35"
      },
      "execution_count": 21,
      "outputs": [
        {
          "output_type": "stream",
          "name": "stdout",
          "text": [
            "\u001b[34m\u001b[1mdetect: \u001b[0mweights=['runs/train/smoke_train_yolo/weights/best.pt'], source=/content/yolov5/images/test/, data=data/coco128.yaml, imgsz=[640, 640], conf_thres=0.25, iou_thres=0.45, max_det=1000, device=, view_img=False, save_txt=False, save_conf=False, save_crop=False, nosave=False, classes=None, agnostic_nms=False, augment=False, visualize=False, update=False, project=runs/detect, name=yolo_smoke_detection, exist_ok=False, line_thickness=3, hide_labels=False, hide_conf=False, half=False, dnn=False\n",
            "YOLOv5 🚀 v6.1-124-g8c420c4 torch 1.10.0+cu111 CUDA:0 (Tesla P100-PCIE-16GB, 16281MiB)\n",
            "\n",
            "Traceback (most recent call last):\n",
            "  File \"detect.py\", line 252, in <module>\n",
            "    main(opt)\n",
            "  File \"detect.py\", line 247, in main\n",
            "    run(**vars(opt))\n",
            "  File \"/usr/local/lib/python3.7/dist-packages/torch/autograd/grad_mode.py\", line 28, in decorate_context\n",
            "    return func(*args, **kwargs)\n",
            "  File \"detect.py\", line 92, in run\n",
            "    model = DetectMultiBackend(weights, device=device, dnn=dnn, data=data, fp16=half)\n",
            "  File \"/content/yolov5/models/common.py\", line 307, in __init__\n",
            "    model = attempt_load(weights if isinstance(weights, list) else w, map_location=device)\n",
            "  File \"/content/yolov5/models/experimental.py\", line 96, in attempt_load\n",
            "    ckpt = torch.load(attempt_download(w), map_location=map_location)  # load\n",
            "  File \"/usr/local/lib/python3.7/dist-packages/torch/serialization.py\", line 594, in load\n",
            "    with _open_file_like(f, 'rb') as opened_file:\n",
            "  File \"/usr/local/lib/python3.7/dist-packages/torch/serialization.py\", line 230, in _open_file_like\n",
            "    return _open_file(name_or_buffer, mode)\n",
            "  File \"/usr/local/lib/python3.7/dist-packages/torch/serialization.py\", line 211, in __init__\n",
            "    super(_open_file, self).__init__(open(name, mode))\n",
            "FileNotFoundError: [Errno 2] No such file or directory: 'runs/train/smoke_train_yolo/weights/best.pt'\n"
          ]
        }
      ]
    },
    {
      "cell_type": "code",
      "source": [
        "detections_dir = \"/content/yolov5/runs/detect/yolo_smoke_detection/\"\n",
        "detection_images = [os.path.join(detections_dir, x) for x in os.listdir(detections_dir)]\n",
        "\n",
        "random_detection_image = Image.open(random.choice(detection_images))\n",
        "plt.imshow(np.array(random_detection_image))"
      ],
      "metadata": {
        "colab": {
          "base_uri": "https://localhost:8080/",
          "height": 357
        },
        "id": "2w0LRbzT6XlY",
        "outputId": "2d484485-7462-45fb-9723-de9af0e58178"
      },
      "execution_count": 20,
      "outputs": [
        {
          "output_type": "error",
          "ename": "IndexError",
          "evalue": "ignored",
          "traceback": [
            "\u001b[0;31m---------------------------------------------------------------------------\u001b[0m",
            "\u001b[0;31mIndexError\u001b[0m                                Traceback (most recent call last)",
            "\u001b[0;32m<ipython-input-20-8c084109e5df>\u001b[0m in \u001b[0;36m<module>\u001b[0;34m()\u001b[0m\n\u001b[1;32m      2\u001b[0m \u001b[0mdetection_images\u001b[0m \u001b[0;34m=\u001b[0m \u001b[0;34m[\u001b[0m\u001b[0mos\u001b[0m\u001b[0;34m.\u001b[0m\u001b[0mpath\u001b[0m\u001b[0;34m.\u001b[0m\u001b[0mjoin\u001b[0m\u001b[0;34m(\u001b[0m\u001b[0mdetections_dir\u001b[0m\u001b[0;34m,\u001b[0m \u001b[0mx\u001b[0m\u001b[0;34m)\u001b[0m \u001b[0;32mfor\u001b[0m \u001b[0mx\u001b[0m \u001b[0;32min\u001b[0m \u001b[0mos\u001b[0m\u001b[0;34m.\u001b[0m\u001b[0mlistdir\u001b[0m\u001b[0;34m(\u001b[0m\u001b[0mdetections_dir\u001b[0m\u001b[0;34m)\u001b[0m\u001b[0;34m]\u001b[0m\u001b[0;34m\u001b[0m\u001b[0;34m\u001b[0m\u001b[0m\n\u001b[1;32m      3\u001b[0m \u001b[0;34m\u001b[0m\u001b[0m\n\u001b[0;32m----> 4\u001b[0;31m \u001b[0mrandom_detection_image\u001b[0m \u001b[0;34m=\u001b[0m \u001b[0mImage\u001b[0m\u001b[0;34m.\u001b[0m\u001b[0mopen\u001b[0m\u001b[0;34m(\u001b[0m\u001b[0mrandom\u001b[0m\u001b[0;34m.\u001b[0m\u001b[0mchoice\u001b[0m\u001b[0;34m(\u001b[0m\u001b[0mdetection_images\u001b[0m\u001b[0;34m)\u001b[0m\u001b[0;34m)\u001b[0m\u001b[0;34m\u001b[0m\u001b[0;34m\u001b[0m\u001b[0m\n\u001b[0m\u001b[1;32m      5\u001b[0m \u001b[0mplt\u001b[0m\u001b[0;34m.\u001b[0m\u001b[0mimshow\u001b[0m\u001b[0;34m(\u001b[0m\u001b[0mnp\u001b[0m\u001b[0;34m.\u001b[0m\u001b[0marray\u001b[0m\u001b[0;34m(\u001b[0m\u001b[0mrandom_detection_image\u001b[0m\u001b[0;34m)\u001b[0m\u001b[0;34m)\u001b[0m\u001b[0;34m\u001b[0m\u001b[0;34m\u001b[0m\u001b[0m\n",
            "\u001b[0;32m/usr/lib/python3.7/random.py\u001b[0m in \u001b[0;36mchoice\u001b[0;34m(self, seq)\u001b[0m\n\u001b[1;32m    259\u001b[0m             \u001b[0mi\u001b[0m \u001b[0;34m=\u001b[0m \u001b[0mself\u001b[0m\u001b[0;34m.\u001b[0m\u001b[0m_randbelow\u001b[0m\u001b[0;34m(\u001b[0m\u001b[0mlen\u001b[0m\u001b[0;34m(\u001b[0m\u001b[0mseq\u001b[0m\u001b[0;34m)\u001b[0m\u001b[0;34m)\u001b[0m\u001b[0;34m\u001b[0m\u001b[0;34m\u001b[0m\u001b[0m\n\u001b[1;32m    260\u001b[0m         \u001b[0;32mexcept\u001b[0m \u001b[0mValueError\u001b[0m\u001b[0;34m:\u001b[0m\u001b[0;34m\u001b[0m\u001b[0;34m\u001b[0m\u001b[0m\n\u001b[0;32m--> 261\u001b[0;31m             \u001b[0;32mraise\u001b[0m \u001b[0mIndexError\u001b[0m\u001b[0;34m(\u001b[0m\u001b[0;34m'Cannot choose from an empty sequence'\u001b[0m\u001b[0;34m)\u001b[0m \u001b[0;32mfrom\u001b[0m \u001b[0;32mNone\u001b[0m\u001b[0;34m\u001b[0m\u001b[0;34m\u001b[0m\u001b[0m\n\u001b[0m\u001b[1;32m    262\u001b[0m         \u001b[0;32mreturn\u001b[0m \u001b[0mseq\u001b[0m\u001b[0;34m[\u001b[0m\u001b[0mi\u001b[0m\u001b[0;34m]\u001b[0m\u001b[0;34m\u001b[0m\u001b[0;34m\u001b[0m\u001b[0m\n\u001b[1;32m    263\u001b[0m \u001b[0;34m\u001b[0m\u001b[0m\n",
            "\u001b[0;31mIndexError\u001b[0m: Cannot choose from an empty sequence"
          ]
        }
      ]
    }
  ]
}