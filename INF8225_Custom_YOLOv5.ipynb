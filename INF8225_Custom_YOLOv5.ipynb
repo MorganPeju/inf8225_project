{
  "cells": [
    {
      "cell_type": "markdown",
      "metadata": {
        "id": "view-in-github",
        "colab_type": "text"
      },
      "source": [
        "<a href=\"https://colab.research.google.com/github/MorganPeju/inf8225_project/blob/main/INF8225_Custom_YOLOv5.ipynb\" target=\"_parent\"><img src=\"https://colab.research.google.com/assets/colab-badge.svg\" alt=\"Open In Colab\"/></a>"
      ]
    },
    {
      "cell_type": "markdown",
      "metadata": {
        "id": "P72FRZ7ephYW"
      },
      "source": [
        "# Presentation\n",
        "## Project INF8225 - YOLOv5 for fire smoke detection\n",
        "\n",
        "**Team**\n",
        "- Renaud Lespérance\n",
        "- Gabriel Poupart\n",
        "- Chu Ka Hei\n",
        "- Morgan Péju\n",
        "\n",
        "**Data**\n",
        "\n",
        "We're using annotated datasets from AI For Mankind [3], a non-profit organization whose mission is to mobilize the technology community to work on global problems using AI and data. AI For Mankind annotated public photos from HPWREN [2] with bounding boxes for object detection.\n",
        "-\tDataset 1 : 744 annotated images\n",
        "-\tDataset 2 : 2192 annotated images\n",
        "-\tSource : https://github.com/aiformankind/wildfire-smoke-dataset\n",
        "\n"
      ]
    },
    {
      "cell_type": "markdown",
      "metadata": {
        "id": "_8QLt9Dss8dz"
      },
      "source": [
        "# Install YOLO & load libraries"
      ]
    },
    {
      "cell_type": "code",
      "execution_count": 1,
      "metadata": {
        "colab": {
          "base_uri": "https://localhost:8080/"
        },
        "id": "7WiS3h0v5UiC",
        "outputId": "38d5c7e8-3a5d-431b-bcb1-859132edcefc"
      },
      "outputs": [
        {
          "output_type": "stream",
          "name": "stderr",
          "text": [
            "YOLOv5 🚀 v6.1-165-g1a3ecb8 torch 1.11.0+cu113 CUDA:0 (Tesla T4, 15110MiB)\n"
          ]
        },
        {
          "output_type": "stream",
          "name": "stdout",
          "text": [
            "Setup complete ✅ (2 CPUs, 12.7 GB RAM, 38.2/166.8 GB disk)\n"
          ]
        }
      ],
      "source": [
        "!git clone https://github.com/ultralytics/yolov5  # Clone of YOLOv5\n",
        "%cd yolov5\n",
        "%pip install -qr requirements.txt  # Requirements installation\n",
        "%pip install -q wandb\n",
        "\n",
        "import wandb\n",
        "import torch\n",
        "from yolov5 import utils\n",
        "display = utils.notebook_init()  # Checks"
      ]
    },
    {
      "cell_type": "code",
      "execution_count": 2,
      "metadata": {
        "colab": {
          "base_uri": "https://localhost:8080/"
        },
        "id": "wTMzukGq56Qm",
        "outputId": "e017ade3-a0af-43f7-e8a4-660c447cc0e6"
      },
      "outputs": [
        {
          "output_type": "stream",
          "name": "stdout",
          "text": [
            "Requirement already satisfied: gdown in /usr/local/lib/python3.7/dist-packages (4.4.0)\n",
            "Requirement already satisfied: filelock in /usr/local/lib/python3.7/dist-packages (from gdown) (3.6.0)\n",
            "Requirement already satisfied: tqdm in /usr/local/lib/python3.7/dist-packages (from gdown) (4.64.0)\n",
            "Requirement already satisfied: beautifulsoup4 in /usr/local/lib/python3.7/dist-packages (from gdown) (4.6.3)\n",
            "Requirement already satisfied: six in /usr/local/lib/python3.7/dist-packages (from gdown) (1.15.0)\n",
            "Requirement already satisfied: requests[socks] in /usr/local/lib/python3.7/dist-packages (from gdown) (2.23.0)\n",
            "Requirement already satisfied: urllib3!=1.25.0,!=1.25.1,<1.26,>=1.21.1 in /usr/local/lib/python3.7/dist-packages (from requests[socks]->gdown) (1.24.3)\n",
            "Requirement already satisfied: chardet<4,>=3.0.2 in /usr/local/lib/python3.7/dist-packages (from requests[socks]->gdown) (3.0.4)\n",
            "Requirement already satisfied: idna<3,>=2.5 in /usr/local/lib/python3.7/dist-packages (from requests[socks]->gdown) (2.10)\n",
            "Requirement already satisfied: certifi>=2017.4.17 in /usr/local/lib/python3.7/dist-packages (from requests[socks]->gdown) (2021.10.8)\n",
            "Requirement already satisfied: PySocks!=1.5.7,>=1.5.6 in /usr/local/lib/python3.7/dist-packages (from requests[socks]->gdown) (1.7.1)\n"
          ]
        }
      ],
      "source": [
        "# Load libraries\n",
        "from IPython.display import Image  # for displaying images\n",
        "import os \n",
        "import random\n",
        "import shutil\n",
        "from sklearn.model_selection import train_test_split\n",
        "import yaml\n",
        "from xml.dom import minidom\n",
        "from tqdm import tqdm\n",
        "from PIL import Image, ImageDraw\n",
        "import numpy as np\n",
        "import matplotlib.pyplot as plt\n",
        "\n",
        "import cv2\n",
        "import xml.etree.ElementTree as etree\n",
        "from google.colab.patches import cv2_imshow\n",
        "from google.colab import files\n",
        "\n",
        "!pip install --upgrade --no-cache-dir gdown #NEED to uptade gdown to download dataset"
      ]
    },
    {
      "cell_type": "markdown",
      "metadata": {
        "id": "zwqvTUGHtBN6"
      },
      "source": [
        "# Preprocessing"
      ]
    },
    {
      "cell_type": "markdown",
      "metadata": {
        "id": "5DoJsaxrqzxc"
      },
      "source": [
        "\n",
        "## Load Datasets"
      ]
    },
    {
      "cell_type": "code",
      "execution_count": 3,
      "metadata": {
        "colab": {
          "base_uri": "https://localhost:8080/"
        },
        "id": "Nf3a-dHT6mxx",
        "outputId": "f67c4315-9965-419c-ac06-849749806790"
      },
      "outputs": [
        {
          "output_type": "stream",
          "name": "stdout",
          "text": [
            "Downloading...\n",
            "From: https://drive.google.com/uc?id=1sEB77bfp2yMkgsSW9703vwDHol_cK6D5\n",
            "To: /content/yolov5/smoke_dataset_V1.tar.gz\n",
            "100% 28.6M/28.6M [00:00<00:00, 137MB/s] \n",
            "Downloading...\n",
            "From: https://drive.google.com/uc?id=1dpTDihAN47rSBRGn_XpEYCCcchXrxnZ0\n",
            "To: /content/yolov5/smoke_dataset_V2.tar.gz\n",
            "100% 501M/501M [00:04<00:00, 123MB/s]\n"
          ]
        }
      ],
      "source": [
        "### Dataset import and extraction\n",
        "! gdown 1sEB77bfp2yMkgsSW9703vwDHol_cK6D5 -O smoke_dataset_V1.tar.gz\n",
        "! gdown 1dpTDihAN47rSBRGn_XpEYCCcchXrxnZ0 -O smoke_dataset_V2.tar.gz\n",
        "! mkdir -p /content/yolov5/datasets/smoke_dataset_V1\n",
        "! mkdir -p /content/yolov5/datasets/smoke_dataset_V2\n",
        "! tar xzf smoke_dataset_V1.tar.gz -C '/content/yolov5/datasets/smoke_dataset_V1'\n",
        "! tar xzf smoke_dataset_V2.tar.gz -C '/content/yolov5/datasets/smoke_dataset_V2'"
      ]
    },
    {
      "cell_type": "code",
      "execution_count": 4,
      "metadata": {
        "id": "G3lMNiNr8FpA"
      },
      "outputs": [],
      "source": [
        "smoke_dataset_V1_path = \"/content/yolov5/datasets/smoke_dataset_V1\"\n",
        "smoke_dataset_V1_images_folder = \"/annotated_bounding_box_hpwren/images\"\n",
        "smoke_dataset_V1_annotations_folder = \"/annotated_bounding_box_hpwren/xmls\"\n",
        "smoke_dataset_V2_path = \"/content/yolov5/datasets/smoke_dataset_V2\"\n",
        "smoke_dataset_V2_images_folder = \"/day_time_wildfire_v2/images\"\n",
        "smoke_dataset_V2_annotations_folder = \"/day_time_wildfire_v2/annotations/xmls\""
      ]
    },
    {
      "cell_type": "markdown",
      "metadata": {
        "id": "t6CTy4Qfq46S"
      },
      "source": [
        "## Convert Annotation : XML to TXT\n",
        "\n",
        "YOLOv5 supports bounding box annotation text file. Thus we need to convert our datasets' .XML file to .TXT."
      ]
    },
    {
      "cell_type": "code",
      "execution_count": 5,
      "metadata": {
        "id": "hNMgAKen58hH"
      },
      "outputs": [],
      "source": [
        "# Function to get the data from XML Annotation\n",
        "def extract_info_from_xml(\n",
        "    datasets_path,\n",
        "    images_folder,\n",
        "    xml_folder,\n",
        "    file_name\n",
        "    ):\n",
        "    \"\"\"\n",
        "    Get annotations' information from a xml file\n",
        "\n",
        "    Args\n",
        "    ----\n",
        "        datasets_path : datasets' path location\n",
        "        images_folder : path to images' folder\n",
        "        xml_folder : path to annotations' folder\n",
        "        file_name: file name\n",
        "\n",
        "    Output\n",
        "    ------\n",
        "        info_dict : dictionnary of the annotation information\n",
        "    \"\"\"\n",
        "    xml_file_path = f\"{datasets_path}{xml_folder}/{file_name}.xml\"\n",
        "    root = etree.parse(xml_file_path).getroot()\n",
        "    \n",
        "    # Initialise the info dict \n",
        "    info_dict = {}\n",
        "    info_dict['bboxes'] = []\n",
        "\n",
        "    # Parse the XML Tree\n",
        "    for elem in root:\n",
        "        # Get the file name \n",
        "        if elem.tag == \"filename\":\n",
        "            info_dict['filename'] = elem.text\n",
        "            \n",
        "        # Get the image size\n",
        "        elif elem.tag == \"size\":\n",
        "            image_size = []\n",
        "            for subelem in elem:\n",
        "                image_size.append(int(subelem.text))\n",
        "            \n",
        "            info_dict['image_size'] = tuple(image_size)\n",
        "        \n",
        "        # Get details of the bounding box \n",
        "        elif elem.tag == \"object\":\n",
        "            bbox = {}\n",
        "            for subelem in elem:\n",
        "                if subelem.tag == \"name\":\n",
        "                    bbox[\"class\"] = subelem.text\n",
        "                    \n",
        "                elif subelem.tag == \"bndbox\":\n",
        "                    for subsubelem in subelem:\n",
        "                        textInInt = int(float(subsubelem.text))  \n",
        "                        bbox[subsubelem.tag] = textInInt           \n",
        "            info_dict['bboxes'].append(bbox)\n",
        "    \n",
        "    return info_dict"
      ]
    },
    {
      "cell_type": "code",
      "execution_count": 6,
      "metadata": {
        "colab": {
          "base_uri": "https://localhost:8080/"
        },
        "id": "4MowlnNB5-uC",
        "outputId": "a4b144c7-a5a3-421f-ffba-14f69f5ac4c3"
      },
      "outputs": [
        {
          "output_type": "stream",
          "name": "stdout",
          "text": [
            "{'bboxes': [{'class': 'smoke', 'xmin': 217, 'ymin': 204, 'xmax': 254, 'ymax': 240}], 'filename': 'ck0txrkyx611l0a46u3b4n8bb.jpeg', 'image_size': (640, 480, 3)}\n"
          ]
        }
      ],
      "source": [
        "## Test\n",
        "file_name = \"ck0txrkyx611l0a46u3b4n8bb\"\n",
        "test = extract_info_from_xml(smoke_dataset_V1_path,smoke_dataset_V1_images_folder,smoke_dataset_V1_annotations_folder,file_name)\n",
        "\n",
        "print(test)\n"
      ]
    },
    {
      "cell_type": "code",
      "execution_count": 7,
      "metadata": {
        "id": "32PWnRCZ6A8j"
      },
      "outputs": [],
      "source": [
        "# Convert the info dict to the required yolo format and write it to disk\n",
        "def convert_to_yolov5(\n",
        "    xml_folder,\n",
        "    info_dict,\n",
        "    class_name_to_id_mapping\n",
        "    ):\n",
        "    \"\"\"\n",
        "    Create annotations' information file (.txt) required for yolo format\n",
        "\n",
        "    Args\n",
        "    ----\n",
        "        xml_folder : path to annotations' folder\n",
        "        info_dict : dictionnary of the annotation information\n",
        "        class_name_to_id_mapping : dictionnary of classes to detect\n",
        "\n",
        "    Output\n",
        "    ------\n",
        "        Create and save annotations' information file (.txt)\n",
        "    \"\"\"\n",
        "    print_buffer = []\n",
        "    \n",
        "    # For each bounding box\n",
        "    for b in info_dict[\"bboxes\"]:\n",
        "        try:\n",
        "            class_id = class_name_to_id_mapping[b[\"class\"]]\n",
        "        except KeyError:\n",
        "            print(\"Invalid Class. Must be one from \", class_name_to_id_mapping.keys())\n",
        "        \n",
        "        # Transform the bbox co-ordinates as per the format required by YOLO v5\n",
        "        b_center_x = (b[\"xmin\"] + b[\"xmax\"]) / 2 \n",
        "        b_center_y = (b[\"ymin\"] + b[\"ymax\"]) / 2\n",
        "        b_width    = (b[\"xmax\"] - b[\"xmin\"])\n",
        "        b_height   = (b[\"ymax\"] - b[\"ymin\"])\n",
        "        \n",
        "        # Normalise the co-ordinates by the dimensions of the image\n",
        "        image_w, image_h, image_c = info_dict[\"image_size\"]  \n",
        "        b_center_x /= image_w \n",
        "        b_center_y /= image_h \n",
        "        b_width    /= image_w \n",
        "        b_height   /= image_h \n",
        "        \n",
        "        #Write the bbox details to the file \n",
        "        print_buffer.append(\"{} {:.3f} {:.3f} {:.3f} {:.3f}\".format(class_id, b_center_x, b_center_y, b_width, b_height))\n",
        "        \n",
        "    # Name of the file which we have to save \n",
        "    save_file_name = os.path.join(xml_folder, info_dict[\"filename\"].replace(\"jpeg\", \"txt\"))\n",
        "    \n",
        "    # Save the annotation to disk\n",
        "    print(\"\\n\".join(print_buffer), file= open(save_file_name, \"w\"))"
      ]
    },
    {
      "cell_type": "code",
      "execution_count": 8,
      "metadata": {
        "colab": {
          "base_uri": "https://localhost:8080/"
        },
        "id": "2tH4mKKM6DhA",
        "outputId": "21dc42b4-7cc4-44be-d81a-25d86208d1f1"
      },
      "outputs": [
        {
          "output_type": "stream",
          "name": "stderr",
          "text": [
            "100%|██████████| 744/744 [00:00<00:00, 6847.08it/s]\n"
          ]
        }
      ],
      "source": [
        "# Dictionary that maps class names to IDs\n",
        "class_name_to_id_mapping = {\"smoke\": 0}\n",
        "# Get the annotations\n",
        "xml_folder_path = f\"{smoke_dataset_V1_path}{smoke_dataset_V1_annotations_folder}\"\n",
        "\n",
        "annotations = [x[:-4] for x in os.listdir(xml_folder_path) if x[-3:] == \"xml\"]\n",
        "annotations.sort()\n",
        "prefixes = ('._')\n",
        "\n",
        "\n",
        "\n",
        "for word in annotations[:]:\n",
        "    if word.startswith(prefixes):\n",
        "        annotations.remove(word)\n",
        "\n",
        "\n",
        "# Convert and save the annotations\n",
        "for filename in tqdm(annotations):\n",
        "    info_dict = extract_info_from_xml(smoke_dataset_V1_path,smoke_dataset_V1_images_folder,smoke_dataset_V1_annotations_folder,filename)\n",
        "    convert_to_yolov5(xml_folder_path,info_dict,class_name_to_id_mapping)\n",
        "annotations = [os.path.join(xml_folder_path, x) for x in os.listdir(xml_folder_path) if x[-3:] == \"txt\"]\n"
      ]
    },
    {
      "cell_type": "markdown",
      "source": [
        "For V2"
      ],
      "metadata": {
        "id": "xUUNJJ7QuVzG"
      }
    },
    {
      "cell_type": "code",
      "source": [
        "# Dictionary that maps class names to IDs\n",
        "class_name_to_id_mapping = {\"smoke\": 0}\n",
        "# Get the annotations\n",
        "xml_folder_path = f\"{smoke_dataset_V2_path}{smoke_dataset_V2_annotations_folder}\"\n",
        "\n",
        "annotations_v2 = [x[:-4] for x in os.listdir(xml_folder_path) if x[-3:] == \"xml\"]\n",
        "annotations_v2.sort()\n",
        "prefixes = ('._')\n",
        "\n",
        "\n",
        "\n",
        "for word in annotations_v2[:]:\n",
        "    if word.startswith(prefixes):\n",
        "        annotations_v2.remove(word)\n",
        "\n",
        "\n",
        "# Convert and save the annotations\n",
        "for filename in tqdm(annotations_v2):\n",
        "    info_dict = extract_info_from_xml(smoke_dataset_V2_path,smoke_dataset_V2_images_folder,smoke_dataset_V2_annotations_folder,filename)\n",
        "    convert_to_yolov5(xml_folder_path,info_dict,class_name_to_id_mapping)\n",
        "annotations_v2 = [os.path.join(xml_folder_path, x) for x in os.listdir(xml_folder_path) if x[-3:] == \"txt\"]"
      ],
      "metadata": {
        "colab": {
          "base_uri": "https://localhost:8080/"
        },
        "id": "zp1S5AN3uXiC",
        "outputId": "4d11b246-9d68-4841-d49e-79c1e2baebb3"
      },
      "execution_count": 9,
      "outputs": [
        {
          "output_type": "stream",
          "name": "stderr",
          "text": [
            "100%|██████████| 2191/2191 [00:00<00:00, 6288.86it/s]\n"
          ]
        }
      ]
    },
    {
      "cell_type": "markdown",
      "metadata": {
        "id": "SIMSSQ6BrY4-"
      },
      "source": [
        "## Display Bounding Box"
      ]
    },
    {
      "cell_type": "code",
      "execution_count": 10,
      "metadata": {
        "colab": {
          "base_uri": "https://localhost:8080/",
          "height": 268
        },
        "id": "22YyprKL6GCy",
        "outputId": "c643401d-ad7e-4662-9541-9e0bf8bb97e0"
      },
      "outputs": [
        {
          "output_type": "display_data",
          "data": {
            "text/plain": [
              "<Figure size 432x288 with 1 Axes>"
            ],
            "image/png": "[encoded data removed]"
          },
          "metadata": {
            "needs_background": "light"
          }
        }
      ],
      "source": [
        "def plot_bounding_box(\n",
        "    image, \n",
        "    annotation_list, \n",
        "    class_id_to_name_mapping\n",
        "    ):\n",
        "    \"\"\"\n",
        "    Display an image with its bounding boxes from its .JPEG file and annotation (.TXT)\n",
        "\n",
        "    Args\n",
        "    ----\n",
        "        image : image file\n",
        "        annotation_list : annotations information\n",
        "        class_name_to_id_mapping : dictionnary of classes to detect\n",
        "\n",
        "    Output\n",
        "    ------\n",
        "        Display an image with its bounding boxes\n",
        "    \"\"\"\n",
        "    annotations = np.array(annotation_list)\n",
        "    w, h = image.size\n",
        "    \n",
        "    plotted_image = ImageDraw.Draw(image)\n",
        "\n",
        "    transformed_annotations = np.copy(annotations)\n",
        "    transformed_annotations[:,[1,3]] = annotations[:,[1,3]] * w\n",
        "    transformed_annotations[:,[2,4]] = annotations[:,[2,4]] * h \n",
        "    \n",
        "    transformed_annotations[:,1] = transformed_annotations[:,1] - (transformed_annotations[:,3] / 2)\n",
        "    transformed_annotations[:,2] = transformed_annotations[:,2] - (transformed_annotations[:,4] / 2)\n",
        "    transformed_annotations[:,3] = transformed_annotations[:,1] + transformed_annotations[:,3]\n",
        "    transformed_annotations[:,4] = transformed_annotations[:,2] + transformed_annotations[:,4]\n",
        "    \n",
        "    for ann in transformed_annotations:\n",
        "        obj_cls, x0, y0, x1, y1 = ann\n",
        "        plotted_image.rectangle(((x0,y0), (x1,y1)))\n",
        "        \n",
        "        plotted_image.text((x0, y0 - 10), class_id_to_name_mapping[(int(obj_cls))])\n",
        "    \n",
        "    plt.imshow(np.array(image))\n",
        "    plt.show()\n",
        "\n",
        "# Get any random annotation file \n",
        "random.seed(0)\n",
        "annotation_file = random.choice(annotations)\n",
        "\n",
        "with open(annotation_file, \"r\") as file:\n",
        "    annotation_list = file.read().split(\"\\n\")[:-1]\n",
        "    annotation_list = [x.split(\" \") for x in annotation_list]\n",
        "    annotation_list = [[float(y) for y in x ] for x in annotation_list]\n",
        "\n",
        "#Get the corresponding image file\n",
        "image_file = annotation_file.replace(\"xmls\", \"images\").replace(\"txt\", \"jpeg\")\n",
        "\n",
        "assert os.path.exists(image_file)\n",
        "\n",
        "#Load the image\n",
        "image = Image.open(image_file)\n",
        "\n",
        "#Plot the Bounding Box\n",
        "class_id_to_name_mapping = dict(zip(class_name_to_id_mapping.values(), class_name_to_id_mapping.keys()))\n",
        "plot_bounding_box(image, annotation_list, class_id_to_name_mapping)\n"
      ]
    },
    {
      "cell_type": "markdown",
      "metadata": {
        "id": "YaOrVOSmrhsN"
      },
      "source": [
        "## Train/Test/Val split and preparation"
      ]
    },
    {
      "cell_type": "code",
      "execution_count": 11,
      "metadata": {
        "id": "OpdmZY4K6I-U"
      },
      "outputs": [],
      "source": [
        "# Read images and annotations\n",
        "xml_folder_path = f\"{smoke_dataset_V1_path}{smoke_dataset_V1_annotations_folder}\"\n",
        "images_folder_path = f\"{smoke_dataset_V1_path}{smoke_dataset_V1_images_folder}\"\n",
        "\n",
        "images = [os.path.join(images_folder_path, x) for x in os.listdir(images_folder_path)]\n",
        "annotations = [os.path.join(xml_folder_path, x) for x in os.listdir(xml_folder_path) if x[-3:] == \"txt\"]\n",
        "\n",
        "images.sort()\n",
        "annotations.sort()\n",
        "\n",
        "prefixes = (images_folder_path+'/._',xml_folder_path+'/._')\n",
        "for word in annotations[:]:\n",
        "    if word.startswith(prefixes):\n",
        "        annotations.remove(word)\n",
        "for word in images[:]:\n",
        "    if word.startswith(prefixes):\n",
        "        images.remove(word)\n",
        "\n",
        "# Split the dataset into train-valid-test splits \n",
        "train_images, val_images, train_annotations, val_annotations = train_test_split(images, annotations, test_size = 0.2, random_state = 1)\n",
        "val_images, test_images, val_annotations, test_annotations = train_test_split(val_images, val_annotations, test_size = 0.5, random_state = 1)\n"
      ]
    },
    {
      "cell_type": "code",
      "execution_count": 12,
      "metadata": {
        "id": "H5xgO2C96LkM"
      },
      "outputs": [],
      "source": [
        "!mkdir -p images/train \n",
        "!mkdir -p images/val \n",
        "!mkdir -p images/test \n",
        "!mkdir -p labels/train \n",
        "!mkdir -p labels/val \n",
        "!mkdir -p labels/test"
      ]
    },
    {
      "cell_type": "code",
      "execution_count": 13,
      "metadata": {
        "id": "ZcGuVHKg6MSk"
      },
      "outputs": [],
      "source": [
        "#Utility function to move images \n",
        "def move_files_to_folder(list_of_files, destination_folder):\n",
        "    for f in list_of_files:\n",
        "        try:\n",
        "            shutil.move(f, destination_folder)\n",
        "        except:\n",
        "            print(\"Files already exist\")\n",
        "            #print(f)\n",
        "            #assert False\n",
        "\n",
        "# Move the splits into their folders\n",
        "\n",
        "move_files_to_folder(train_images, '/content/yolov5/images/train')\n",
        "move_files_to_folder(val_images, '/content/yolov5/images/val/')\n",
        "move_files_to_folder(test_images, '/content/yolov5/images/test/')\n",
        "move_files_to_folder(train_annotations, '/content/yolov5/labels/train/')\n",
        "move_files_to_folder(val_annotations, '/content/yolov5/labels/val/')\n",
        "move_files_to_folder(test_annotations, '/content/yolov5/labels/test/')\n"
      ]
    },
    {
      "cell_type": "markdown",
      "source": [
        "Code for 2nd dataset"
      ],
      "metadata": {
        "id": "aUnQhpLWKzgJ"
      }
    },
    {
      "cell_type": "code",
      "source": [
        "# Read images and annotations\n",
        "xml_folder_path = f\"{smoke_dataset_V2_path}{smoke_dataset_V2_annotations_folder}\"\n",
        "images_folder_path = f\"{smoke_dataset_V2_path}{smoke_dataset_V2_images_folder}\"\n",
        "\n",
        "images_v2 = []\n",
        "images_v2 = [os.path.join(images_folder_path, x) for x in os.listdir(images_folder_path) if x[-4:] == \"jpeg\"]\n",
        "annotations_v2 = []\n",
        "annotations_v2 = [os.path.join(xml_folder_path, x) for x in os.listdir(xml_folder_path) if x[-3:] == \"txt\"]\n",
        "\n",
        "images_v2.sort()\n",
        "annotations_v2.sort()\n",
        "\n",
        "prefixes = (images_folder_path+'/._',xml_folder_path+'/._')\n",
        "for word in annotations_v2[:]:\n",
        "    if word.startswith(prefixes):\n",
        "        annotations_v2.remove(word)\n",
        "for word in images_v2[:]:\n",
        "    if word.startswith(prefixes):\n",
        "        images_v2.remove(word)\n",
        "\n",
        "\n",
        "# Split the dataset into train-valid-test splits \n",
        "train_images_v2, val_images_v2, train_annotations_v2, val_annotations_v2 = train_test_split(images_v2, annotations_v2, test_size = 0.2, random_state = 1)\n",
        "val_images_v2, test_images_v2, val_annotations_v2, test_annotations_v2 = train_test_split(val_images_v2, val_annotations_v2, test_size = 0.5, random_state = 1)\n",
        "\n",
        "#Utility function to move images \n",
        "def move_files_to_folder(list_of_files, destination_folder):\n",
        "    for f in list_of_files:\n",
        "        try:\n",
        "            shutil.move(f, destination_folder)\n",
        "        except:\n",
        "            print(\"Files already exist\")\n",
        "            #print(f)\n",
        "            #assert False\n",
        "\n",
        "# Move the splits into their folders\n",
        "\n",
        "move_files_to_folder(train_images_v2, '/content/yolov5/images/train')\n",
        "move_files_to_folder(val_images_v2, '/content/yolov5/images/val/')\n",
        "move_files_to_folder(test_images_v2, '/content/yolov5/images/test/')\n",
        "move_files_to_folder(train_annotations_v2, '/content/yolov5/labels/train/')\n",
        "move_files_to_folder(val_annotations_v2, '/content/yolov5/labels/val/')\n",
        "move_files_to_folder(test_annotations_v2, '/content/yolov5/labels/test/')\n",
        "\n"
      ],
      "metadata": {
        "id": "7kFeIzW2Ky4I"
      },
      "execution_count": 14,
      "outputs": []
    },
    {
      "cell_type": "markdown",
      "metadata": {
        "id": "1cSz0LlWrq9M"
      },
      "source": [
        "# YOLOv5 Custom Config"
      ]
    },
    {
      "cell_type": "markdown",
      "metadata": {
        "id": "ttv9nVDurydb"
      },
      "source": [
        "## Configure folders and detection classes "
      ]
    },
    {
      "cell_type": "code",
      "execution_count": 15,
      "metadata": {
        "id": "8houL5Od938s"
      },
      "outputs": [],
      "source": [
        "with open(r'/content/yolov5/data/smoke.yaml', 'w') as file:\n",
        "    file.write('''\\\n",
        "train: /content/yolov5/images/train/ \n",
        "val:  /content/yolov5/images/val/\n",
        "test: /content/yolov5/images/test/\n",
        "\n",
        "# number of classes\n",
        "nc: 1\n",
        "\n",
        "# class names\n",
        "names: [\"smoke\"]       \n",
        "''')"
      ]
    },
    {
      "cell_type": "markdown",
      "metadata": {
        "id": "CUXf_O8cr58c"
      },
      "source": [
        "## Configure hyperparameters\n",
        "Pour tester adam changer \n",
        "  'lr0': 0.01,  # initial learning rate (SGD=1E-2, Adam=1E-3)\n",
        "  'momentum': 0.937,  # SGD momentum/Adam beta1"
      ]
    },
    {
      "cell_type": "code",
      "execution_count": 16,
      "metadata": {
        "id": "Ii01iXxUFYd6"
      },
      "outputs": [],
      "source": [
        "# Custom hyper-parameters\n",
        "dict_hyperparameters = {\n",
        "  'lr0': 0.01,  # initial learning rate (SGD=1E-2, Adam=1E-3)\n",
        "  'lrf': 0.2,  # final OneCycleLR learning rate (lr0 * lrf)\n",
        "  'momentum': 0.937,  # SGD momentum/Adam beta1\n",
        "  'weight_decay': 0.0005,  # optimizer weight decay 5e-4\n",
        "  'warmup_epochs': 3.0,  # warmup epochs (fractions ok)\n",
        "  'warmup_momentum': 0.8,  # warmup initial momentum\n",
        "  'warmup_bias_lr': 0.1,  # warmup initial bias lr\n",
        "  'box': 0.05,  # box loss gain\n",
        "  'cls': 0.5,  # cls loss gain\n",
        "  'cls_pw': 1.0,  # cls BCELoss positive_weight\n",
        "  'obj': 1.0,  # obj loss gain (scale with pixels)\n",
        "  'obj_pw': 1.0,  # obj BCELoss positive_weight\n",
        "  'iou_t': 0.20,  # IoU training threshold\n",
        "  'anchor_t': 4.0,  # anchor-multiple threshold\n",
        "  # 'anchors': 3,  # anchors per output layer (0 to ignore)\n",
        "  'fl_gamma': 0.0,  # focal loss gamma (efficientDet default gamma=1.5)\n",
        "  'hsv_h': 0.015,  # image HSV-Hue augmentation (fraction)\n",
        "  'hsv_s': 0.7,  # image HSV-Saturation augmentation (fraction)\n",
        "  'hsv_v': 0.4,  # image HSV-Value augmentation (fraction)\n",
        "  'degrees': 0.0,  # image rotation (+/- deg)\n",
        "  'translate': 0.1,  # image translation (+/- fraction)\n",
        "  'scale': 0.5,  # image scale (+/- gain)\n",
        "  'shear': 0.0,  # image shear (+/- deg)\n",
        "  'perspective': 0.0005,  # image perspective (+/- fraction), range 0-0.001\n",
        "  'flipud': 0.0,  # image flip up-down (probability)\n",
        "  'fliplr': 0.5,  # image flip left-right (probability)\n",
        "  'mosaic': 1.0,  # image mosaic (probability)\n",
        "  'mixup': 0.0,  # image mixup (probability)\n",
        "  'copy_paste': 0.0  # segment copy-paste (probability)\n",
        "}"
      ]
    },
    {
      "cell_type": "code",
      "execution_count": 17,
      "metadata": {
        "id": "oF3A3jjmF4TB"
      },
      "outputs": [],
      "source": [
        "with open(r'/content/yolov5/data/hyps/hyp.custom.yaml', 'w')as outfile:\n",
        "    yaml.dump(dict_hyperparameters, outfile, default_flow_style=False)"
      ]
    },
    {
      "cell_type": "markdown",
      "metadata": {
        "id": "bNx1SL3Zr_4Y"
      },
      "source": [
        "## Configure YOLO architecture\n",
        "yolov5s:\n",
        "depth_multiple: 0.33  # model depth multiple\n",
        "width_multiple: 0.50  # layer channel multiple\n",
        "\n",
        "yolov5m :\n",
        "depth_multiple: 0.67  # model depth multiple\n",
        "width_multiple: 0.75  # layer channel multiple\n",
        "\n",
        "yolov5l:\n",
        "depth_multiple: 1.0  # model depth multiple\n",
        "width_multiple: 1.0  # layer channel multiple"
      ]
    },
    {
      "cell_type": "code",
      "execution_count": 18,
      "metadata": {
        "id": "qKylPORgX_CP"
      },
      "outputs": [],
      "source": [
        "# Custom Architecture\n",
        "# BASE : YOLOv5 🚀 by Ultralytics, GPL-3.0 license\n",
        "with open(r'/content/yolov5/models/yolo_custom.yaml', 'w') as file:\n",
        "    file.write('''\\\n",
        "# Parameters\n",
        "nc: 1  # number of classes\n",
        "depth_multiple: 0.33  # model depth multiple\n",
        "width_multiple: 0.50  # layer channel multiple\n",
        "anchors:\n",
        "  - [10,13, 16,30, 33,23]  # P3/8\n",
        "  - [30,61, 62,45, 59,119]  # P4/16\n",
        "  - [116,90, 156,198, 373,326]  # P5/32\n",
        "\n",
        "# YOLOv5 v6.0 backbone\n",
        "backbone:\n",
        "  # [from, number, module, args]\n",
        "  [[-1, 1, Conv, [64, 6, 2, 2]],  # 0-P1/2\n",
        "   [-1, 1, Conv, [128, 3, 2]],  # 1-P2/4\n",
        "   [-1, 3, C3, [128]],\n",
        "   [-1, 1, Conv, [256, 3, 2]],  # 3-P3/8\n",
        "   [-1, 6, C3, [256]],\n",
        "   [-1, 1, Conv, [512, 3, 2]],  # 5-P4/16\n",
        "   [-1, 9, C3, [512]],\n",
        "   [-1, 1, Conv, [1024, 3, 2]],  # 7-P5/32\n",
        "   [-1, 3, C3, [1024]],\n",
        "   [-1, 1, SPPF, [1024, 5]],  # 9\n",
        "  ]\n",
        "\n",
        "# YOLOv5 v6.0 head\n",
        "head:\n",
        "  [[-1, 1, Conv, [512, 1, 1]],\n",
        "   [-1, 1, nn.Upsample, [None, 2, 'nearest']],\n",
        "   [[-1, 6], 1, Concat, [1]],  # cat backbone P4\n",
        "   [-1, 3, C3, [512, False]],  # 13\n",
        "\n",
        "   [-1, 1, Conv, [256, 1, 1]],\n",
        "   [-1, 1, nn.Upsample, [None, 2, 'nearest']],\n",
        "   [[-1, 4], 1, Concat, [1]],  # cat backbone P3\n",
        "   [-1, 3, C3, [256, False]],  # 17 (P3/8-small)\n",
        "\n",
        "   [-1, 1, Conv, [256, 3, 2]],\n",
        "   [[-1, 14], 1, Concat, [1]],  # cat head P4\n",
        "   [-1, 3, C3, [512, False]],  # 20 (P4/16-medium)\n",
        "\n",
        "   [-1, 1, Conv, [512, 3, 2]],\n",
        "   [[-1, 10], 1, Concat, [1]],  # cat head P5\n",
        "   [-1, 3, C3, [1024, False]],  # 23 (P5/32-large)\n",
        "\n",
        "   [[17, 20, 23], 1, Detect, [nc, anchors]],  # Detect(P3, P4, P5)\n",
        "  ]\n",
        "''')"
      ]
    },
    {
      "cell_type": "markdown",
      "metadata": {
        "id": "ZrnwAaLhsFKC"
      },
      "source": [
        "# Train model"
      ]
    },
    {
      "cell_type": "code",
      "source": [
        "# TELECHARGEMENT DES MEILLEURS POIDS PRE-ENTRAINES DEPUIS NOTRE GITHUB\n",
        "!wget -cq https://raw.githubusercontent.com/MorganPeju/inf8225_project/main/trained_weights/best.pt\n",
        "# REMPLACER ENSUITE LES POIDS LORS DE L'ENTRAINEMENT PAR : best.pt"
      ],
      "metadata": {
        "id": "g_4x4QF7RKmA"
      },
      "execution_count": null,
      "outputs": []
    },
    {
      "cell_type": "code",
      "execution_count": 20,
      "metadata": {
        "id": "7hkBGaVUbm2I",
        "colab": {
          "base_uri": "https://localhost:8080/",
          "height": 69
        },
        "outputId": "e62c3508-da43-4e38-cac0-4c5e8d54faf6"
      },
      "outputs": [
        {
          "output_type": "display_data",
          "data": {
            "text/plain": [
              "<IPython.core.display.Javascript object>"
            ],
            "application/javascript": [
              "\n",
              "        window._wandbApiKey = new Promise((resolve, reject) => {\n",
              "            function loadScript(url) {\n",
              "            return new Promise(function(resolve, reject) {\n",
              "                let newScript = document.createElement(\"script\");\n",
              "                newScript.onerror = reject;\n",
              "                newScript.onload = resolve;\n",
              "                document.body.appendChild(newScript);\n",
              "                newScript.src = url;\n",
              "            });\n",
              "            }\n",
              "            loadScript(\"https://cdn.jsdelivr.net/npm/postmate/build/postmate.min.js\").then(() => {\n",
              "            const iframe = document.createElement('iframe')\n",
              "            iframe.style.cssText = \"width:0;height:0;border:none\"\n",
              "            document.body.appendChild(iframe)\n",
              "            const handshake = new Postmate({\n",
              "                container: iframe,\n",
              "                url: 'https://wandb.ai/authorize'\n",
              "            });\n",
              "            const timeout = setTimeout(() => reject(\"Couldn't auto authenticate\"), 5000)\n",
              "            handshake.then(function(child) {\n",
              "                child.on('authorize', data => {\n",
              "                    clearTimeout(timeout)\n",
              "                    resolve(data)\n",
              "                });\n",
              "            });\n",
              "            })\n",
              "        });\n",
              "    "
            ]
          },
          "metadata": {}
        },
        {
          "output_type": "stream",
          "name": "stderr",
          "text": [
            "\u001b[34m\u001b[1mwandb\u001b[0m: Appending key for api.wandb.ai to your netrc file: /root/.netrc\n"
          ]
        },
        {
          "output_type": "stream",
          "name": "stdout",
          "text": [
            "W&B online, running your script from this directory will now sync to the cloud.\n"
          ]
        }
      ],
      "source": [
        "# Weights & Biases\n",
        "wandb.login()\n",
        "\n",
        "!wandb online  # online / offline to activate or deactivate WandB logging\n",
        "# b2208215d33eed3434e8409697c7ba75b44bf9e8 : Morgan"
      ]
    },
    {
      "cell_type": "code",
      "execution_count": 21,
      "metadata": {
        "id": "BWT1-9U26S11",
        "colab": {
          "base_uri": "https://localhost:8080/",
          "height": 1000
        },
        "outputId": "e51b1d90-99c1-4548-bf36-bd3a132d5bad"
      },
      "outputs": [
        {
          "output_type": "stream",
          "name": "stdout",
          "text": [
            "\u001b[34m\u001b[1mwandb\u001b[0m: Currently logged in as: \u001b[33mmorgiizz\u001b[0m (use `wandb login --relogin` to force relogin)\n",
            "\u001b[34m\u001b[1mtrain: \u001b[0mweights=best.pt, cfg=yolo_custom.yaml, data=smoke.yaml, hyp=hyp.custom.yaml, epochs=100, batch_size=32, imgsz=640, rect=False, resume=False, nosave=False, noval=False, noautoanchor=False, noplots=False, evolve=None, bucket=, cache=None, image_weights=False, device=, multi_scale=False, single_cls=False, optimizer=SGD, sync_bn=False, workers=24, project=INF8225_YOLO_Project, name=smoke_train_yolo, exist_ok=False, quad=False, cos_lr=False, label_smoothing=0.0, patience=100, freeze=[0], save_period=-1, local_rank=-1, entity=None, upload_dataset=False, bbox_interval=-1, artifact_alias=latest\n",
            "\u001b[34m\u001b[1mgithub: \u001b[0mup to date with https://github.com/ultralytics/yolov5 ✅\n",
            "YOLOv5 🚀 v6.1-165-g1a3ecb8 torch 1.11.0+cu113 CUDA:0 (Tesla T4, 15110MiB)\n",
            "\n",
            "\u001b[34m\u001b[1mhyperparameters: \u001b[0manchor_t=4.0, box=0.05, cls=0.5, cls_pw=1.0, copy_paste=0.0, degrees=0.0, fl_gamma=0.0, fliplr=0.5, flipud=0.0, hsv_h=0.015, hsv_s=0.7, hsv_v=0.4, iou_t=0.2, lr0=0.01, lrf=0.2, mixup=0.0, momentum=0.937, mosaic=1.0, obj=1.0, obj_pw=1.0, perspective=0.0005, scale=0.5, shear=0.0, translate=0.1, warmup_bias_lr=0.1, warmup_epochs=3.0, warmup_momentum=0.8, weight_decay=0.0005\n",
            "\u001b[34m\u001b[1mTensorBoard: \u001b[0mStart with 'tensorboard --logdir INF8225_YOLO_Project', view at http://localhost:6006/\n",
            "\u001b[34m\u001b[1mwandb\u001b[0m: Tracking run with wandb version 0.12.15\n",
            "\u001b[34m\u001b[1mwandb\u001b[0m: Run data is saved locally in \u001b[35m\u001b[1m/content/yolov5/wandb/run-20220429_165841-1bfhqmf0\u001b[0m\n",
            "\u001b[34m\u001b[1mwandb\u001b[0m: Run \u001b[1m`wandb offline`\u001b[0m to turn off syncing.\n",
            "\u001b[34m\u001b[1mwandb\u001b[0m: Syncing run \u001b[33msmoke_train_yolo\u001b[0m\n",
            "\u001b[34m\u001b[1mwandb\u001b[0m: ⭐️ View project at \u001b[34m\u001b[4mhttps://wandb.ai/morgiizz/INF8225_YOLO_Project\u001b[0m\n",
            "\u001b[34m\u001b[1mwandb\u001b[0m: 🚀 View run at \u001b[34m\u001b[4mhttps://wandb.ai/morgiizz/INF8225_YOLO_Project/runs/1bfhqmf0\u001b[0m\n",
            "Downloading https://ultralytics.com/assets/Arial.ttf to /root/.config/Ultralytics/Arial.ttf...\n",
            "100% 755k/755k [00:00<00:00, 115MB/s]\n",
            "YOLOv5 temporarily requires wandb version 0.12.10 or below. Some features may not work as expected.\n",
            "\n",
            "                 from  n    params  module                                  arguments                     \n",
            "  0                -1  1      3520  models.common.Conv                      [3, 32, 6, 2, 2]              \n",
            "  1                -1  1     18560  models.common.Conv                      [32, 64, 3, 2]                \n",
            "  2                -1  1     18816  models.common.C3                        [64, 64, 1]                   \n",
            "  3                -1  1     73984  models.common.Conv                      [64, 128, 3, 2]               \n",
            "  4                -1  2    115712  models.common.C3                        [128, 128, 2]                 \n",
            "  5                -1  1    295424  models.common.Conv                      [128, 256, 3, 2]              \n",
            "  6                -1  3    625152  models.common.C3                        [256, 256, 3]                 \n",
            "  7                -1  1   1180672  models.common.Conv                      [256, 512, 3, 2]              \n",
            "  8                -1  1   1182720  models.common.C3                        [512, 512, 1]                 \n",
            "  9                -1  1    656896  models.common.SPPF                      [512, 512, 5]                 \n",
            " 10                -1  1    131584  models.common.Conv                      [512, 256, 1, 1]              \n",
            " 11                -1  1         0  torch.nn.modules.upsampling.Upsample    [None, 2, 'nearest']          \n",
            " 12           [-1, 6]  1         0  models.common.Concat                    [1]                           \n",
            " 13                -1  1    361984  models.common.C3                        [512, 256, 1, False]          \n",
            " 14                -1  1     33024  models.common.Conv                      [256, 128, 1, 1]              \n",
            " 15                -1  1         0  torch.nn.modules.upsampling.Upsample    [None, 2, 'nearest']          \n",
            " 16           [-1, 4]  1         0  models.common.Concat                    [1]                           \n",
            " 17                -1  1     90880  models.common.C3                        [256, 128, 1, False]          \n",
            " 18                -1  1    147712  models.common.Conv                      [128, 128, 3, 2]              \n",
            " 19          [-1, 14]  1         0  models.common.Concat                    [1]                           \n",
            " 20                -1  1    296448  models.common.C3                        [256, 256, 1, False]          \n",
            " 21                -1  1    590336  models.common.Conv                      [256, 256, 3, 2]              \n",
            " 22          [-1, 10]  1         0  models.common.Concat                    [1]                           \n",
            " 23                -1  1   1182720  models.common.C3                        [512, 512, 1, False]          \n",
            " 24      [17, 20, 23]  1     16182  models.yolo.Detect                      [1, [[10, 13, 16, 30, 33, 23], [30, 61, 62, 45, 59, 119], [116, 90, 156, 198, 373, 326]], [128, 256, 512]]\n",
            "yolo_custom summary: 270 layers, 7022326 parameters, 7022326 gradients, 15.8 GFLOPs\n",
            "\n",
            "Transferred 216/349 items from best.pt\n",
            "Scaled weight_decay = 0.0005\n",
            "\u001b[34m\u001b[1moptimizer:\u001b[0m SGD with parameter groups 57 weight (no decay), 60 weight, 60 bias\n",
            "\u001b[34m\u001b[1malbumentations: \u001b[0mversion 1.0.3 required by YOLOv5, but version 0.1.12 is currently installed\n",
            "\u001b[34m\u001b[1mtrain: \u001b[0mScanning '/content/yolov5/labels/train' images and labels...2347 found, 0 missing, 0 empty, 0 corrupt: 100% 2347/2347 [00:01<00:00, 2198.92it/s]\n",
            "\u001b[34m\u001b[1mtrain: \u001b[0mNew cache created: /content/yolov5/labels/train.cache\n",
            "\u001b[34m\u001b[1mval: \u001b[0mScanning '/content/yolov5/labels/val' images and labels...293 found, 0 missing, 0 empty, 0 corrupt: 100% 293/293 [00:00<00:00, 1365.11it/s]\n",
            "\u001b[34m\u001b[1mval: \u001b[0mNew cache created: /content/yolov5/labels/val.cache\n",
            "Plotting labels to INF8225_YOLO_Project/smoke_train_yolo/labels.jpg... \n",
            "\n",
            "\u001b[34m\u001b[1mAutoAnchor: \u001b[0m4.16 anchors/target, 0.978 Best Possible Recall (BPR). Anchors are a poor fit to dataset ⚠️, attempting to improve...\n",
            "\u001b[34m\u001b[1mAutoAnchor: \u001b[0mWARNING: Extremely small objects found: 55 of 2457 labels are < 3 pixels in size\n",
            "\u001b[34m\u001b[1mAutoAnchor: \u001b[0mRunning kmeans for 9 anchors on 2454 points...\n",
            "\u001b[34m\u001b[1mAutoAnchor: \u001b[0mEvolving anchors with Genetic Algorithm: fitness = 0.7277: 100% 1000/1000 [00:00<00:00, 1343.51it/s]\n",
            "\u001b[34m\u001b[1mAutoAnchor: \u001b[0mthr=0.25: 0.9951 best possible recall, 4.76 anchors past thr\n",
            "\u001b[34m\u001b[1mAutoAnchor: \u001b[0mn=9, img_size=640, metric_all=0.316/0.728-mean/best, past_thr=0.483-mean: 9,6, 19,11, 26,20, 46,27, 93,33, 53,77, 134,54, 180,100, 165,270\n",
            "\u001b[34m\u001b[1mAutoAnchor: \u001b[0mDone ✅ (optional: update model *.yaml to use these anchors in the future)\n",
            "Image sizes 640 train, 640 val\n",
            "Using 2 dataloader workers\n",
            "Logging results to \u001b[1mINF8225_YOLO_Project/smoke_train_yolo\u001b[0m\n",
            "Starting training for 100 epochs...\n",
            "\n",
            "     Epoch   gpu_mem       box       obj       cls    labels  img_size\n",
            "      0/99     7.33G    0.1163   0.02214         0        46       640:   8% 6/74 [00:06<01:08,  1.01s/it]\n",
            "Traceback (most recent call last):\n",
            "  File \"train.py\", line 668, in <module>\n",
            "    main(opt)\n",
            "  File \"train.py\", line 563, in main\n",
            "    train(opt.hyp, opt, device, callbacks)\n",
            "  File \"train.py\", line 323, in train\n",
            "    for i, (imgs, targets, paths, _) in pbar:  # batch -------------------------------------------------------------\n",
            "  File \"/usr/local/lib/python3.7/dist-packages/tqdm/std.py\", line 1195, in __iter__\n",
            "    for obj in iterable:\n",
            "  File \"/content/yolov5/utils/datasets.py\", line 160, in __iter__\n",
            "    yield next(self.iterator)\n",
            "  File \"/usr/local/lib/python3.7/dist-packages/torch/utils/data/dataloader.py\", line 530, in __next__\n",
            "    data = self._next_data()\n",
            "  File \"/usr/local/lib/python3.7/dist-packages/torch/utils/data/dataloader.py\", line 1207, in _next_data\n",
            "    idx, data = self._get_data()\n",
            "  File \"/usr/local/lib/python3.7/dist-packages/torch/utils/data/dataloader.py\", line 1163, in _get_data\n",
            "    success, data = self._try_get_data()\n",
            "  File \"/usr/local/lib/python3.7/dist-packages/torch/utils/data/dataloader.py\", line 1011, in _try_get_data\n",
            "    data = self._data_queue.get(timeout=timeout)\n",
            "  File \"/usr/lib/python3.7/queue.py\", line 179, in get\n",
            "    self.not_empty.wait(remaining)\n",
            "  File \"/usr/lib/python3.7/threading.py\", line 300, in wait\n",
            "    gotit = waiter.acquire(True, timeout)\n",
            "KeyboardInterrupt\n"
          ]
        },
        {
          "output_type": "error",
          "ename": "KeyboardInterrupt",
          "evalue": "ignored",
          "traceback": [
            "\u001b[0;31m---------------------------------------------------------------------------\u001b[0m",
            "\u001b[0;31mKeyboardInterrupt\u001b[0m                         Traceback (most recent call last)",
            "\u001b[0;32m<ipython-input-21-8080e254c0a6>\u001b[0m in \u001b[0;36m<module>\u001b[0;34m()\u001b[0m\n\u001b[1;32m      1\u001b[0m \u001b[0;31m#@title\u001b[0m\u001b[0;34m\u001b[0m\u001b[0;34m\u001b[0m\u001b[0;34m\u001b[0m\u001b[0m\n\u001b[1;32m      2\u001b[0m \u001b[0;31m#!python train.py --img 640 --cfg yolo_custom.yaml --hyp hyp.custom.yaml --batch 32 --epochs 100 --data smoke.yaml --weights yolov5s.pt --workers 24 --project INF8225_YOLO_Project --name smoke_train_yolo --optimizer Adam\u001b[0m\u001b[0;34m\u001b[0m\u001b[0;34m\u001b[0m\u001b[0;34m\u001b[0m\u001b[0m\n\u001b[0;32m----> 3\u001b[0;31m \u001b[0mget_ipython\u001b[0m\u001b[0;34m(\u001b[0m\u001b[0;34m)\u001b[0m\u001b[0;34m.\u001b[0m\u001b[0msystem\u001b[0m\u001b[0;34m(\u001b[0m\u001b[0;34m'python train.py --img 640 --cfg yolo_custom.yaml --hyp hyp.custom.yaml --batch 32 --epochs 100 --data smoke.yaml --weights best.pt --workers 24 --project INF8225_YOLO_Project --name smoke_train_yolo --optimizer SGD'\u001b[0m\u001b[0;34m)\u001b[0m\u001b[0;34m\u001b[0m\u001b[0;34m\u001b[0m\u001b[0m\n\u001b[0m",
            "\u001b[0;32m/usr/local/lib/python3.7/dist-packages/google/colab/_shell.py\u001b[0m in \u001b[0;36msystem\u001b[0;34m(self, *args, **kwargs)\u001b[0m\n\u001b[1;32m    100\u001b[0m       \u001b[0mkwargs\u001b[0m\u001b[0;34m.\u001b[0m\u001b[0mupdate\u001b[0m\u001b[0;34m(\u001b[0m\u001b[0;34m{\u001b[0m\u001b[0;34m'also_return_output'\u001b[0m\u001b[0;34m:\u001b[0m \u001b[0;32mTrue\u001b[0m\u001b[0;34m}\u001b[0m\u001b[0;34m)\u001b[0m\u001b[0;34m\u001b[0m\u001b[0;34m\u001b[0m\u001b[0m\n\u001b[1;32m    101\u001b[0m \u001b[0;34m\u001b[0m\u001b[0m\n\u001b[0;32m--> 102\u001b[0;31m     \u001b[0moutput\u001b[0m \u001b[0;34m=\u001b[0m \u001b[0m_system_commands\u001b[0m\u001b[0;34m.\u001b[0m\u001b[0m_system_compat\u001b[0m\u001b[0;34m(\u001b[0m\u001b[0mself\u001b[0m\u001b[0;34m,\u001b[0m \u001b[0;34m*\u001b[0m\u001b[0margs\u001b[0m\u001b[0;34m,\u001b[0m \u001b[0;34m**\u001b[0m\u001b[0mkwargs\u001b[0m\u001b[0;34m)\u001b[0m  \u001b[0;31m# pylint:disable=protected-access\u001b[0m\u001b[0;34m\u001b[0m\u001b[0;34m\u001b[0m\u001b[0m\n\u001b[0m\u001b[1;32m    103\u001b[0m \u001b[0;34m\u001b[0m\u001b[0m\n\u001b[1;32m    104\u001b[0m     \u001b[0;32mif\u001b[0m \u001b[0mpip_warn\u001b[0m\u001b[0;34m:\u001b[0m\u001b[0;34m\u001b[0m\u001b[0;34m\u001b[0m\u001b[0m\n",
            "\u001b[0;32m/usr/local/lib/python3.7/dist-packages/google/colab/_system_commands.py\u001b[0m in \u001b[0;36m_system_compat\u001b[0;34m(shell, cmd, also_return_output)\u001b[0m\n\u001b[1;32m    445\u001b[0m   \u001b[0;31m# stack.\u001b[0m\u001b[0;34m\u001b[0m\u001b[0;34m\u001b[0m\u001b[0;34m\u001b[0m\u001b[0m\n\u001b[1;32m    446\u001b[0m   result = _run_command(\n\u001b[0;32m--> 447\u001b[0;31m       shell.var_expand(cmd, depth=2), clear_streamed_output=False)\n\u001b[0m\u001b[1;32m    448\u001b[0m   \u001b[0mshell\u001b[0m\u001b[0;34m.\u001b[0m\u001b[0muser_ns\u001b[0m\u001b[0;34m[\u001b[0m\u001b[0;34m'_exit_code'\u001b[0m\u001b[0;34m]\u001b[0m \u001b[0;34m=\u001b[0m \u001b[0mresult\u001b[0m\u001b[0;34m.\u001b[0m\u001b[0mreturncode\u001b[0m\u001b[0;34m\u001b[0m\u001b[0;34m\u001b[0m\u001b[0m\n\u001b[1;32m    449\u001b[0m   \u001b[0;32mif\u001b[0m \u001b[0;34m-\u001b[0m\u001b[0mresult\u001b[0m\u001b[0;34m.\u001b[0m\u001b[0mreturncode\u001b[0m \u001b[0;32min\u001b[0m \u001b[0m_INTERRUPTED_SIGNALS\u001b[0m\u001b[0;34m:\u001b[0m\u001b[0;34m\u001b[0m\u001b[0;34m\u001b[0m\u001b[0m\n",
            "\u001b[0;32m/usr/local/lib/python3.7/dist-packages/google/colab/_system_commands.py\u001b[0m in \u001b[0;36m_run_command\u001b[0;34m(cmd, clear_streamed_output)\u001b[0m\n\u001b[1;32m    197\u001b[0m       \u001b[0mos\u001b[0m\u001b[0;34m.\u001b[0m\u001b[0mclose\u001b[0m\u001b[0;34m(\u001b[0m\u001b[0mchild_pty\u001b[0m\u001b[0;34m)\u001b[0m\u001b[0;34m\u001b[0m\u001b[0;34m\u001b[0m\u001b[0m\n\u001b[1;32m    198\u001b[0m \u001b[0;34m\u001b[0m\u001b[0m\n\u001b[0;32m--> 199\u001b[0;31m       \u001b[0;32mreturn\u001b[0m \u001b[0m_monitor_process\u001b[0m\u001b[0;34m(\u001b[0m\u001b[0mparent_pty\u001b[0m\u001b[0;34m,\u001b[0m \u001b[0mepoll\u001b[0m\u001b[0;34m,\u001b[0m \u001b[0mp\u001b[0m\u001b[0;34m,\u001b[0m \u001b[0mcmd\u001b[0m\u001b[0;34m,\u001b[0m \u001b[0mupdate_stdin_widget\u001b[0m\u001b[0;34m)\u001b[0m\u001b[0;34m\u001b[0m\u001b[0;34m\u001b[0m\u001b[0m\n\u001b[0m\u001b[1;32m    200\u001b[0m   \u001b[0;32mfinally\u001b[0m\u001b[0;34m:\u001b[0m\u001b[0;34m\u001b[0m\u001b[0;34m\u001b[0m\u001b[0m\n\u001b[1;32m    201\u001b[0m     \u001b[0mepoll\u001b[0m\u001b[0;34m.\u001b[0m\u001b[0mclose\u001b[0m\u001b[0;34m(\u001b[0m\u001b[0;34m)\u001b[0m\u001b[0;34m\u001b[0m\u001b[0;34m\u001b[0m\u001b[0m\n",
            "\u001b[0;32m/usr/local/lib/python3.7/dist-packages/google/colab/_system_commands.py\u001b[0m in \u001b[0;36m_monitor_process\u001b[0;34m(parent_pty, epoll, p, cmd, update_stdin_widget)\u001b[0m\n\u001b[1;32m    227\u001b[0m   \u001b[0;32mwhile\u001b[0m \u001b[0;32mTrue\u001b[0m\u001b[0;34m:\u001b[0m\u001b[0;34m\u001b[0m\u001b[0;34m\u001b[0m\u001b[0m\n\u001b[1;32m    228\u001b[0m     \u001b[0;32mtry\u001b[0m\u001b[0;34m:\u001b[0m\u001b[0;34m\u001b[0m\u001b[0;34m\u001b[0m\u001b[0m\n\u001b[0;32m--> 229\u001b[0;31m       \u001b[0mresult\u001b[0m \u001b[0;34m=\u001b[0m \u001b[0m_poll_process\u001b[0m\u001b[0;34m(\u001b[0m\u001b[0mparent_pty\u001b[0m\u001b[0;34m,\u001b[0m \u001b[0mepoll\u001b[0m\u001b[0;34m,\u001b[0m \u001b[0mp\u001b[0m\u001b[0;34m,\u001b[0m \u001b[0mcmd\u001b[0m\u001b[0;34m,\u001b[0m \u001b[0mdecoder\u001b[0m\u001b[0;34m,\u001b[0m \u001b[0mstate\u001b[0m\u001b[0;34m)\u001b[0m\u001b[0;34m\u001b[0m\u001b[0;34m\u001b[0m\u001b[0m\n\u001b[0m\u001b[1;32m    230\u001b[0m       \u001b[0;32mif\u001b[0m \u001b[0mresult\u001b[0m \u001b[0;32mis\u001b[0m \u001b[0;32mnot\u001b[0m \u001b[0;32mNone\u001b[0m\u001b[0;34m:\u001b[0m\u001b[0;34m\u001b[0m\u001b[0;34m\u001b[0m\u001b[0m\n\u001b[1;32m    231\u001b[0m         \u001b[0;32mreturn\u001b[0m \u001b[0mresult\u001b[0m\u001b[0;34m\u001b[0m\u001b[0;34m\u001b[0m\u001b[0m\n",
            "\u001b[0;32m/usr/local/lib/python3.7/dist-packages/google/colab/_system_commands.py\u001b[0m in \u001b[0;36m_poll_process\u001b[0;34m(parent_pty, epoll, p, cmd, decoder, state)\u001b[0m\n\u001b[1;32m    274\u001b[0m   \u001b[0moutput_available\u001b[0m \u001b[0;34m=\u001b[0m \u001b[0;32mFalse\u001b[0m\u001b[0;34m\u001b[0m\u001b[0;34m\u001b[0m\u001b[0m\n\u001b[1;32m    275\u001b[0m \u001b[0;34m\u001b[0m\u001b[0m\n\u001b[0;32m--> 276\u001b[0;31m   \u001b[0mevents\u001b[0m \u001b[0;34m=\u001b[0m \u001b[0mepoll\u001b[0m\u001b[0;34m.\u001b[0m\u001b[0mpoll\u001b[0m\u001b[0;34m(\u001b[0m\u001b[0;34m)\u001b[0m\u001b[0;34m\u001b[0m\u001b[0;34m\u001b[0m\u001b[0m\n\u001b[0m\u001b[1;32m    277\u001b[0m   \u001b[0minput_events\u001b[0m \u001b[0;34m=\u001b[0m \u001b[0;34m[\u001b[0m\u001b[0;34m]\u001b[0m\u001b[0;34m\u001b[0m\u001b[0;34m\u001b[0m\u001b[0m\n\u001b[1;32m    278\u001b[0m   \u001b[0;32mfor\u001b[0m \u001b[0m_\u001b[0m\u001b[0;34m,\u001b[0m \u001b[0mevent\u001b[0m \u001b[0;32min\u001b[0m \u001b[0mevents\u001b[0m\u001b[0;34m:\u001b[0m\u001b[0;34m\u001b[0m\u001b[0;34m\u001b[0m\u001b[0m\n",
            "\u001b[0;31mKeyboardInterrupt\u001b[0m: "
          ]
        }
      ],
      "source": [
        "#@title\n",
        "#!python train.py --img 640 --cfg yolo_custom.yaml --hyp hyp.custom.yaml --batch 32 --epochs 100 --data smoke.yaml --weights yolov5s.pt --workers 24 --project INF8225_YOLO_Project --name smoke_train_yolo --optimizer Adam\n",
        "!python train.py --img 640 --cfg yolo_custom.yaml --hyp hyp.custom.yaml --batch 32 --epochs 100 --data smoke.yaml --weights best.pt --workers 24 --project INF8225_YOLO_Project --name smoke_train_yolo --optimizer SGD"
      ]
    },
    {
      "cell_type": "code",
      "execution_count": null,
      "metadata": {
        "id": "wSesGCnD6VJn"
      },
      "outputs": [],
      "source": [
        "#@title\n",
        "!python detect.py --source /content/yolov5/images/test/ --weights runs/train/smoke_train_yolo/weights/best.pt --conf 0.25 --name yolo_smoke_detection"
      ]
    },
    {
      "cell_type": "code",
      "execution_count": null,
      "metadata": {
        "id": "2w0LRbzT6XlY"
      },
      "outputs": [],
      "source": [
        "#@title\n",
        "detections_dir = \"/content/yolov5/runs/detect/yolo_smoke_detection/\"\n",
        "detection_images = [os.path.join(detections_dir, x) for x in os.listdir(detections_dir)]\n",
        "\n",
        "random_detection_image = Image.open(random.choice(detection_images))\n",
        "plt.imshow(np.array(random_detection_image))"
      ]
    }
  ],
  "metadata": {
    "accelerator": "GPU",
    "colab": {
      "collapsed_sections": [],
      "name": "INF8225_Custom_YOLOv5.ipynb",
      "provenance": [],
      "include_colab_link": true
    },
    "kernelspec": {
      "display_name": "Python 3",
      "name": "python3"
    },
    "language_info": {
      "name": "python"
    }
  },
  "nbformat": 4,
  "nbformat_minor": 0
}